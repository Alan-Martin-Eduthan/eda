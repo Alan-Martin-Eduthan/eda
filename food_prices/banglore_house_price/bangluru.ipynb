{
  "nbformat": 4,
  "nbformat_minor": 0,
  "metadata": {
    "colab": {
      "provenance": [],
      "collapsed_sections": [
        "XR0xd4R7A7u3"
      ]
    },
    "kernelspec": {
      "name": "python3",
      "display_name": "Python 3"
    },
    "language_info": {
      "name": "python"
    }
  },
  "cells": [
    {
      "cell_type": "code",
      "source": [
        "import pandas as pd"
      ],
      "metadata": {
        "id": "xdnLeeJh_jeD"
      },
      "execution_count": null,
      "outputs": []
    },
    {
      "cell_type": "code",
      "source": [
        "data=pd.read_csv('/content/Bengaluru_House_Data.csv')\n",
        "data"
      ],
      "metadata": {
        "colab": {
          "base_uri": "https://localhost:8080/",
          "height": 721
        },
        "id": "Ao1GNSaq_xZP",
        "outputId": "fe53e54e-50dc-4dc1-fc9e-5caeca05be65"
      },
      "execution_count": null,
      "outputs": [
        {
          "output_type": "execute_result",
          "data": {
            "text/plain": [
              "                  area_type   availability                  location  \\\n",
              "0      Super built-up  Area         19-Dec  Electronic City Phase II   \n",
              "1                Plot  Area  Ready To Move          Chikka Tirupathi   \n",
              "2            Built-up  Area  Ready To Move               Uttarahalli   \n",
              "3      Super built-up  Area  Ready To Move        Lingadheeranahalli   \n",
              "4      Super built-up  Area  Ready To Move                  Kothanur   \n",
              "...                     ...            ...                       ...   \n",
              "13315        Built-up  Area  Ready To Move                Whitefield   \n",
              "13316  Super built-up  Area  Ready To Move             Richards Town   \n",
              "13317        Built-up  Area  Ready To Move     Raja Rajeshwari Nagar   \n",
              "13318  Super built-up  Area         18-Jun           Padmanabhanagar   \n",
              "13319  Super built-up  Area  Ready To Move              Doddathoguru   \n",
              "\n",
              "            size  society total_sqft  bath  balcony   price  \n",
              "0          2 BHK  Coomee        1056   2.0      1.0   39.07  \n",
              "1      4 Bedroom  Theanmp       2600   5.0      3.0  120.00  \n",
              "2          3 BHK      NaN       1440   2.0      3.0   62.00  \n",
              "3          3 BHK  Soiewre       1521   3.0      1.0   95.00  \n",
              "4          2 BHK      NaN       1200   2.0      1.0   51.00  \n",
              "...          ...      ...        ...   ...      ...     ...  \n",
              "13315  5 Bedroom  ArsiaEx       3453   4.0      0.0  231.00  \n",
              "13316      4 BHK      NaN       3600   5.0      NaN  400.00  \n",
              "13317      2 BHK  Mahla T       1141   2.0      1.0   60.00  \n",
              "13318      4 BHK  SollyCl       4689   4.0      1.0  488.00  \n",
              "13319      1 BHK      NaN        550   1.0      1.0   17.00  \n",
              "\n",
              "[13320 rows x 9 columns]"
            ],
            "text/html": [
              "\n",
              "  <div id=\"df-c9e9fb56-fea1-445c-96f9-1da2c8356c5a\" class=\"colab-df-container\">\n",
              "    <div>\n",
              "<style scoped>\n",
              "    .dataframe tbody tr th:only-of-type {\n",
              "        vertical-align: middle;\n",
              "    }\n",
              "\n",
              "    .dataframe tbody tr th {\n",
              "        vertical-align: top;\n",
              "    }\n",
              "\n",
              "    .dataframe thead th {\n",
              "        text-align: right;\n",
              "    }\n",
              "</style>\n",
              "<table border=\"1\" class=\"dataframe\">\n",
              "  <thead>\n",
              "    <tr style=\"text-align: right;\">\n",
              "      <th></th>\n",
              "      <th>area_type</th>\n",
              "      <th>availability</th>\n",
              "      <th>location</th>\n",
              "      <th>size</th>\n",
              "      <th>society</th>\n",
              "      <th>total_sqft</th>\n",
              "      <th>bath</th>\n",
              "      <th>balcony</th>\n",
              "      <th>price</th>\n",
              "    </tr>\n",
              "  </thead>\n",
              "  <tbody>\n",
              "    <tr>\n",
              "      <th>0</th>\n",
              "      <td>Super built-up  Area</td>\n",
              "      <td>19-Dec</td>\n",
              "      <td>Electronic City Phase II</td>\n",
              "      <td>2 BHK</td>\n",
              "      <td>Coomee</td>\n",
              "      <td>1056</td>\n",
              "      <td>2.0</td>\n",
              "      <td>1.0</td>\n",
              "      <td>39.07</td>\n",
              "    </tr>\n",
              "    <tr>\n",
              "      <th>1</th>\n",
              "      <td>Plot  Area</td>\n",
              "      <td>Ready To Move</td>\n",
              "      <td>Chikka Tirupathi</td>\n",
              "      <td>4 Bedroom</td>\n",
              "      <td>Theanmp</td>\n",
              "      <td>2600</td>\n",
              "      <td>5.0</td>\n",
              "      <td>3.0</td>\n",
              "      <td>120.00</td>\n",
              "    </tr>\n",
              "    <tr>\n",
              "      <th>2</th>\n",
              "      <td>Built-up  Area</td>\n",
              "      <td>Ready To Move</td>\n",
              "      <td>Uttarahalli</td>\n",
              "      <td>3 BHK</td>\n",
              "      <td>NaN</td>\n",
              "      <td>1440</td>\n",
              "      <td>2.0</td>\n",
              "      <td>3.0</td>\n",
              "      <td>62.00</td>\n",
              "    </tr>\n",
              "    <tr>\n",
              "      <th>3</th>\n",
              "      <td>Super built-up  Area</td>\n",
              "      <td>Ready To Move</td>\n",
              "      <td>Lingadheeranahalli</td>\n",
              "      <td>3 BHK</td>\n",
              "      <td>Soiewre</td>\n",
              "      <td>1521</td>\n",
              "      <td>3.0</td>\n",
              "      <td>1.0</td>\n",
              "      <td>95.00</td>\n",
              "    </tr>\n",
              "    <tr>\n",
              "      <th>4</th>\n",
              "      <td>Super built-up  Area</td>\n",
              "      <td>Ready To Move</td>\n",
              "      <td>Kothanur</td>\n",
              "      <td>2 BHK</td>\n",
              "      <td>NaN</td>\n",
              "      <td>1200</td>\n",
              "      <td>2.0</td>\n",
              "      <td>1.0</td>\n",
              "      <td>51.00</td>\n",
              "    </tr>\n",
              "    <tr>\n",
              "      <th>...</th>\n",
              "      <td>...</td>\n",
              "      <td>...</td>\n",
              "      <td>...</td>\n",
              "      <td>...</td>\n",
              "      <td>...</td>\n",
              "      <td>...</td>\n",
              "      <td>...</td>\n",
              "      <td>...</td>\n",
              "      <td>...</td>\n",
              "    </tr>\n",
              "    <tr>\n",
              "      <th>13315</th>\n",
              "      <td>Built-up  Area</td>\n",
              "      <td>Ready To Move</td>\n",
              "      <td>Whitefield</td>\n",
              "      <td>5 Bedroom</td>\n",
              "      <td>ArsiaEx</td>\n",
              "      <td>3453</td>\n",
              "      <td>4.0</td>\n",
              "      <td>0.0</td>\n",
              "      <td>231.00</td>\n",
              "    </tr>\n",
              "    <tr>\n",
              "      <th>13316</th>\n",
              "      <td>Super built-up  Area</td>\n",
              "      <td>Ready To Move</td>\n",
              "      <td>Richards Town</td>\n",
              "      <td>4 BHK</td>\n",
              "      <td>NaN</td>\n",
              "      <td>3600</td>\n",
              "      <td>5.0</td>\n",
              "      <td>NaN</td>\n",
              "      <td>400.00</td>\n",
              "    </tr>\n",
              "    <tr>\n",
              "      <th>13317</th>\n",
              "      <td>Built-up  Area</td>\n",
              "      <td>Ready To Move</td>\n",
              "      <td>Raja Rajeshwari Nagar</td>\n",
              "      <td>2 BHK</td>\n",
              "      <td>Mahla T</td>\n",
              "      <td>1141</td>\n",
              "      <td>2.0</td>\n",
              "      <td>1.0</td>\n",
              "      <td>60.00</td>\n",
              "    </tr>\n",
              "    <tr>\n",
              "      <th>13318</th>\n",
              "      <td>Super built-up  Area</td>\n",
              "      <td>18-Jun</td>\n",
              "      <td>Padmanabhanagar</td>\n",
              "      <td>4 BHK</td>\n",
              "      <td>SollyCl</td>\n",
              "      <td>4689</td>\n",
              "      <td>4.0</td>\n",
              "      <td>1.0</td>\n",
              "      <td>488.00</td>\n",
              "    </tr>\n",
              "    <tr>\n",
              "      <th>13319</th>\n",
              "      <td>Super built-up  Area</td>\n",
              "      <td>Ready To Move</td>\n",
              "      <td>Doddathoguru</td>\n",
              "      <td>1 BHK</td>\n",
              "      <td>NaN</td>\n",
              "      <td>550</td>\n",
              "      <td>1.0</td>\n",
              "      <td>1.0</td>\n",
              "      <td>17.00</td>\n",
              "    </tr>\n",
              "  </tbody>\n",
              "</table>\n",
              "<p>13320 rows × 9 columns</p>\n",
              "</div>\n",
              "    <div class=\"colab-df-buttons\">\n",
              "\n",
              "  <div class=\"colab-df-container\">\n",
              "    <button class=\"colab-df-convert\" onclick=\"convertToInteractive('df-c9e9fb56-fea1-445c-96f9-1da2c8356c5a')\"\n",
              "            title=\"Convert this dataframe to an interactive table.\"\n",
              "            style=\"display:none;\">\n",
              "\n",
              "  <svg xmlns=\"http://www.w3.org/2000/svg\" height=\"24px\" viewBox=\"0 -960 960 960\">\n",
              "    <path d=\"M120-120v-720h720v720H120Zm60-500h600v-160H180v160Zm220 220h160v-160H400v160Zm0 220h160v-160H400v160ZM180-400h160v-160H180v160Zm440 0h160v-160H620v160ZM180-180h160v-160H180v160Zm440 0h160v-160H620v160Z\"/>\n",
              "  </svg>\n",
              "    </button>\n",
              "\n",
              "  <style>\n",
              "    .colab-df-container {\n",
              "      display:flex;\n",
              "      gap: 12px;\n",
              "    }\n",
              "\n",
              "    .colab-df-convert {\n",
              "      background-color: #E8F0FE;\n",
              "      border: none;\n",
              "      border-radius: 50%;\n",
              "      cursor: pointer;\n",
              "      display: none;\n",
              "      fill: #1967D2;\n",
              "      height: 32px;\n",
              "      padding: 0 0 0 0;\n",
              "      width: 32px;\n",
              "    }\n",
              "\n",
              "    .colab-df-convert:hover {\n",
              "      background-color: #E2EBFA;\n",
              "      box-shadow: 0px 1px 2px rgba(60, 64, 67, 0.3), 0px 1px 3px 1px rgba(60, 64, 67, 0.15);\n",
              "      fill: #174EA6;\n",
              "    }\n",
              "\n",
              "    .colab-df-buttons div {\n",
              "      margin-bottom: 4px;\n",
              "    }\n",
              "\n",
              "    [theme=dark] .colab-df-convert {\n",
              "      background-color: #3B4455;\n",
              "      fill: #D2E3FC;\n",
              "    }\n",
              "\n",
              "    [theme=dark] .colab-df-convert:hover {\n",
              "      background-color: #434B5C;\n",
              "      box-shadow: 0px 1px 3px 1px rgba(0, 0, 0, 0.15);\n",
              "      filter: drop-shadow(0px 1px 2px rgba(0, 0, 0, 0.3));\n",
              "      fill: #FFFFFF;\n",
              "    }\n",
              "  </style>\n",
              "\n",
              "    <script>\n",
              "      const buttonEl =\n",
              "        document.querySelector('#df-c9e9fb56-fea1-445c-96f9-1da2c8356c5a button.colab-df-convert');\n",
              "      buttonEl.style.display =\n",
              "        google.colab.kernel.accessAllowed ? 'block' : 'none';\n",
              "\n",
              "      async function convertToInteractive(key) {\n",
              "        const element = document.querySelector('#df-c9e9fb56-fea1-445c-96f9-1da2c8356c5a');\n",
              "        const dataTable =\n",
              "          await google.colab.kernel.invokeFunction('convertToInteractive',\n",
              "                                                    [key], {});\n",
              "        if (!dataTable) return;\n",
              "\n",
              "        const docLinkHtml = 'Like what you see? Visit the ' +\n",
              "          '<a target=\"_blank\" href=https://colab.research.google.com/notebooks/data_table.ipynb>data table notebook</a>'\n",
              "          + ' to learn more about interactive tables.';\n",
              "        element.innerHTML = '';\n",
              "        dataTable['output_type'] = 'display_data';\n",
              "        await google.colab.output.renderOutput(dataTable, element);\n",
              "        const docLink = document.createElement('div');\n",
              "        docLink.innerHTML = docLinkHtml;\n",
              "        element.appendChild(docLink);\n",
              "      }\n",
              "    </script>\n",
              "  </div>\n",
              "\n",
              "\n",
              "    <div id=\"df-a8286659-f60f-4693-85d1-9e2b99f0eed0\">\n",
              "      <button class=\"colab-df-quickchart\" onclick=\"quickchart('df-a8286659-f60f-4693-85d1-9e2b99f0eed0')\"\n",
              "                title=\"Suggest charts\"\n",
              "                style=\"display:none;\">\n",
              "\n",
              "<svg xmlns=\"http://www.w3.org/2000/svg\" height=\"24px\"viewBox=\"0 0 24 24\"\n",
              "     width=\"24px\">\n",
              "    <g>\n",
              "        <path d=\"M19 3H5c-1.1 0-2 .9-2 2v14c0 1.1.9 2 2 2h14c1.1 0 2-.9 2-2V5c0-1.1-.9-2-2-2zM9 17H7v-7h2v7zm4 0h-2V7h2v10zm4 0h-2v-4h2v4z\"/>\n",
              "    </g>\n",
              "</svg>\n",
              "      </button>\n",
              "\n",
              "<style>\n",
              "  .colab-df-quickchart {\n",
              "      --bg-color: #E8F0FE;\n",
              "      --fill-color: #1967D2;\n",
              "      --hover-bg-color: #E2EBFA;\n",
              "      --hover-fill-color: #174EA6;\n",
              "      --disabled-fill-color: #AAA;\n",
              "      --disabled-bg-color: #DDD;\n",
              "  }\n",
              "\n",
              "  [theme=dark] .colab-df-quickchart {\n",
              "      --bg-color: #3B4455;\n",
              "      --fill-color: #D2E3FC;\n",
              "      --hover-bg-color: #434B5C;\n",
              "      --hover-fill-color: #FFFFFF;\n",
              "      --disabled-bg-color: #3B4455;\n",
              "      --disabled-fill-color: #666;\n",
              "  }\n",
              "\n",
              "  .colab-df-quickchart {\n",
              "    background-color: var(--bg-color);\n",
              "    border: none;\n",
              "    border-radius: 50%;\n",
              "    cursor: pointer;\n",
              "    display: none;\n",
              "    fill: var(--fill-color);\n",
              "    height: 32px;\n",
              "    padding: 0;\n",
              "    width: 32px;\n",
              "  }\n",
              "\n",
              "  .colab-df-quickchart:hover {\n",
              "    background-color: var(--hover-bg-color);\n",
              "    box-shadow: 0 1px 2px rgba(60, 64, 67, 0.3), 0 1px 3px 1px rgba(60, 64, 67, 0.15);\n",
              "    fill: var(--button-hover-fill-color);\n",
              "  }\n",
              "\n",
              "  .colab-df-quickchart-complete:disabled,\n",
              "  .colab-df-quickchart-complete:disabled:hover {\n",
              "    background-color: var(--disabled-bg-color);\n",
              "    fill: var(--disabled-fill-color);\n",
              "    box-shadow: none;\n",
              "  }\n",
              "\n",
              "  .colab-df-spinner {\n",
              "    border: 2px solid var(--fill-color);\n",
              "    border-color: transparent;\n",
              "    border-bottom-color: var(--fill-color);\n",
              "    animation:\n",
              "      spin 1s steps(1) infinite;\n",
              "  }\n",
              "\n",
              "  @keyframes spin {\n",
              "    0% {\n",
              "      border-color: transparent;\n",
              "      border-bottom-color: var(--fill-color);\n",
              "      border-left-color: var(--fill-color);\n",
              "    }\n",
              "    20% {\n",
              "      border-color: transparent;\n",
              "      border-left-color: var(--fill-color);\n",
              "      border-top-color: var(--fill-color);\n",
              "    }\n",
              "    30% {\n",
              "      border-color: transparent;\n",
              "      border-left-color: var(--fill-color);\n",
              "      border-top-color: var(--fill-color);\n",
              "      border-right-color: var(--fill-color);\n",
              "    }\n",
              "    40% {\n",
              "      border-color: transparent;\n",
              "      border-right-color: var(--fill-color);\n",
              "      border-top-color: var(--fill-color);\n",
              "    }\n",
              "    60% {\n",
              "      border-color: transparent;\n",
              "      border-right-color: var(--fill-color);\n",
              "    }\n",
              "    80% {\n",
              "      border-color: transparent;\n",
              "      border-right-color: var(--fill-color);\n",
              "      border-bottom-color: var(--fill-color);\n",
              "    }\n",
              "    90% {\n",
              "      border-color: transparent;\n",
              "      border-bottom-color: var(--fill-color);\n",
              "    }\n",
              "  }\n",
              "</style>\n",
              "\n",
              "      <script>\n",
              "        async function quickchart(key) {\n",
              "          const quickchartButtonEl =\n",
              "            document.querySelector('#' + key + ' button');\n",
              "          quickchartButtonEl.disabled = true;  // To prevent multiple clicks.\n",
              "          quickchartButtonEl.classList.add('colab-df-spinner');\n",
              "          try {\n",
              "            const charts = await google.colab.kernel.invokeFunction(\n",
              "                'suggestCharts', [key], {});\n",
              "          } catch (error) {\n",
              "            console.error('Error during call to suggestCharts:', error);\n",
              "          }\n",
              "          quickchartButtonEl.classList.remove('colab-df-spinner');\n",
              "          quickchartButtonEl.classList.add('colab-df-quickchart-complete');\n",
              "        }\n",
              "        (() => {\n",
              "          let quickchartButtonEl =\n",
              "            document.querySelector('#df-a8286659-f60f-4693-85d1-9e2b99f0eed0 button');\n",
              "          quickchartButtonEl.style.display =\n",
              "            google.colab.kernel.accessAllowed ? 'block' : 'none';\n",
              "        })();\n",
              "      </script>\n",
              "    </div>\n",
              "\n",
              "  <div id=\"id_84b193da-9795-4f32-833d-9087d1639bea\">\n",
              "    <style>\n",
              "      .colab-df-generate {\n",
              "        background-color: #E8F0FE;\n",
              "        border: none;\n",
              "        border-radius: 50%;\n",
              "        cursor: pointer;\n",
              "        display: none;\n",
              "        fill: #1967D2;\n",
              "        height: 32px;\n",
              "        padding: 0 0 0 0;\n",
              "        width: 32px;\n",
              "      }\n",
              "\n",
              "      .colab-df-generate:hover {\n",
              "        background-color: #E2EBFA;\n",
              "        box-shadow: 0px 1px 2px rgba(60, 64, 67, 0.3), 0px 1px 3px 1px rgba(60, 64, 67, 0.15);\n",
              "        fill: #174EA6;\n",
              "      }\n",
              "\n",
              "      [theme=dark] .colab-df-generate {\n",
              "        background-color: #3B4455;\n",
              "        fill: #D2E3FC;\n",
              "      }\n",
              "\n",
              "      [theme=dark] .colab-df-generate:hover {\n",
              "        background-color: #434B5C;\n",
              "        box-shadow: 0px 1px 3px 1px rgba(0, 0, 0, 0.15);\n",
              "        filter: drop-shadow(0px 1px 2px rgba(0, 0, 0, 0.3));\n",
              "        fill: #FFFFFF;\n",
              "      }\n",
              "    </style>\n",
              "    <button class=\"colab-df-generate\" onclick=\"generateWithVariable('data')\"\n",
              "            title=\"Generate code using this dataframe.\"\n",
              "            style=\"display:none;\">\n",
              "\n",
              "  <svg xmlns=\"http://www.w3.org/2000/svg\" height=\"24px\"viewBox=\"0 0 24 24\"\n",
              "       width=\"24px\">\n",
              "    <path d=\"M7,19H8.4L18.45,9,17,7.55,7,17.6ZM5,21V16.75L18.45,3.32a2,2,0,0,1,2.83,0l1.4,1.43a1.91,1.91,0,0,1,.58,1.4,1.91,1.91,0,0,1-.58,1.4L9.25,21ZM18.45,9,17,7.55Zm-12,3A5.31,5.31,0,0,0,4.9,8.1,5.31,5.31,0,0,0,1,6.5,5.31,5.31,0,0,0,4.9,4.9,5.31,5.31,0,0,0,6.5,1,5.31,5.31,0,0,0,8.1,4.9,5.31,5.31,0,0,0,12,6.5,5.46,5.46,0,0,0,6.5,12Z\"/>\n",
              "  </svg>\n",
              "    </button>\n",
              "    <script>\n",
              "      (() => {\n",
              "      const buttonEl =\n",
              "        document.querySelector('#id_84b193da-9795-4f32-833d-9087d1639bea button.colab-df-generate');\n",
              "      buttonEl.style.display =\n",
              "        google.colab.kernel.accessAllowed ? 'block' : 'none';\n",
              "\n",
              "      buttonEl.onclick = () => {\n",
              "        google.colab.notebook.generateWithVariable('data');\n",
              "      }\n",
              "      })();\n",
              "    </script>\n",
              "  </div>\n",
              "\n",
              "    </div>\n",
              "  </div>\n"
            ],
            "application/vnd.google.colaboratory.intrinsic+json": {
              "type": "dataframe",
              "variable_name": "data",
              "summary": "{\n  \"name\": \"data\",\n  \"rows\": 13320,\n  \"fields\": [\n    {\n      \"column\": \"area_type\",\n      \"properties\": {\n        \"dtype\": \"category\",\n        \"num_unique_values\": 4,\n        \"samples\": [\n          \"Plot  Area\",\n          \"Carpet  Area\",\n          \"Super built-up  Area\"\n        ],\n        \"semantic_type\": \"\",\n        \"description\": \"\"\n      }\n    },\n    {\n      \"column\": \"availability\",\n      \"properties\": {\n        \"dtype\": \"category\",\n        \"num_unique_values\": 81,\n        \"samples\": [\n          \"18-Sep\",\n          \"19-Dec\",\n          \"22-Jan\"\n        ],\n        \"semantic_type\": \"\",\n        \"description\": \"\"\n      }\n    },\n    {\n      \"column\": \"location\",\n      \"properties\": {\n        \"dtype\": \"category\",\n        \"num_unique_values\": 1305,\n        \"samples\": [\n          \"Ashok Nagar\",\n          \"Maruthi Nagar\",\n          \"CQAL Layout\"\n        ],\n        \"semantic_type\": \"\",\n        \"description\": \"\"\n      }\n    },\n    {\n      \"column\": \"size\",\n      \"properties\": {\n        \"dtype\": \"category\",\n        \"num_unique_values\": 31,\n        \"samples\": [\n          \"8 BHK\",\n          \"5 Bedroom\",\n          \"19 BHK\"\n        ],\n        \"semantic_type\": \"\",\n        \"description\": \"\"\n      }\n    },\n    {\n      \"column\": \"society\",\n      \"properties\": {\n        \"dtype\": \"category\",\n        \"num_unique_values\": 2688,\n        \"samples\": [\n          \"DStra S\",\n          \"Aples M\",\n          \"JahanSa\"\n        ],\n        \"semantic_type\": \"\",\n        \"description\": \"\"\n      }\n    },\n    {\n      \"column\": \"total_sqft\",\n      \"properties\": {\n        \"dtype\": \"category\",\n        \"num_unique_values\": 2117,\n        \"samples\": [\n          \"5270\",\n          \"832\",\n          \"1145\"\n        ],\n        \"semantic_type\": \"\",\n        \"description\": \"\"\n      }\n    },\n    {\n      \"column\": \"bath\",\n      \"properties\": {\n        \"dtype\": \"number\",\n        \"std\": 1.3414580781244512,\n        \"min\": 1.0,\n        \"max\": 40.0,\n        \"num_unique_values\": 19,\n        \"samples\": [\n          2.0,\n          1.0,\n          14.0\n        ],\n        \"semantic_type\": \"\",\n        \"description\": \"\"\n      }\n    },\n    {\n      \"column\": \"balcony\",\n      \"properties\": {\n        \"dtype\": \"number\",\n        \"std\": 0.8172634299202004,\n        \"min\": 0.0,\n        \"max\": 3.0,\n        \"num_unique_values\": 4,\n        \"samples\": [\n          3.0,\n          0.0,\n          1.0\n        ],\n        \"semantic_type\": \"\",\n        \"description\": \"\"\n      }\n    },\n    {\n      \"column\": \"price\",\n      \"properties\": {\n        \"dtype\": \"number\",\n        \"std\": 148.9716737696744,\n        \"min\": 8.0,\n        \"max\": 3600.0,\n        \"num_unique_values\": 1994,\n        \"samples\": [\n          93.25,\n          33.645,\n          62.55\n        ],\n        \"semantic_type\": \"\",\n        \"description\": \"\"\n      }\n    }\n  ]\n}"
            }
          },
          "metadata": {},
          "execution_count": 372
        }
      ]
    },
    {
      "cell_type": "markdown",
      "source": [
        "## data cleaning"
      ],
      "metadata": {
        "id": "EUcm6TQjBg5H"
      }
    },
    {
      "cell_type": "code",
      "source": [
        "data['area_type'].unique()"
      ],
      "metadata": {
        "colab": {
          "base_uri": "https://localhost:8080/"
        },
        "id": "N599FTImuDH7",
        "outputId": "1f4aed44-8621-4693-80f7-b9ec34cdc475"
      },
      "execution_count": null,
      "outputs": [
        {
          "output_type": "execute_result",
          "data": {
            "text/plain": [
              "array(['Super built-up  Area', 'Plot  Area', 'Built-up  Area',\n",
              "       'Carpet  Area'], dtype=object)"
            ]
          },
          "metadata": {},
          "execution_count": 373
        }
      ]
    },
    {
      "cell_type": "markdown",
      "source": [
        "## Data ordering"
      ],
      "metadata": {
        "id": "q7VKGRKFvTZw"
      }
    },
    {
      "cell_type": "code",
      "source": [
        "data['area_type'].unique()"
      ],
      "metadata": {
        "colab": {
          "base_uri": "https://localhost:8080/"
        },
        "id": "Pg9E3WHZBFMp",
        "outputId": "aaf37998-871a-4da8-87d1-1d3e61ee95ad"
      },
      "execution_count": null,
      "outputs": [
        {
          "output_type": "execute_result",
          "data": {
            "text/plain": [
              "array(['Super built-up  Area', 'Plot  Area', 'Built-up  Area',\n",
              "       'Carpet  Area'], dtype=object)"
            ]
          },
          "metadata": {},
          "execution_count": 374
        }
      ]
    },
    {
      "cell_type": "code",
      "source": [
        "# filling the data of location,size,bath, balcony and dropping the society column"
      ],
      "metadata": {
        "id": "ggDK_M8WBj3g"
      },
      "execution_count": null,
      "outputs": []
    },
    {
      "cell_type": "code",
      "source": [
        "# filling location\n",
        "mode_location=data['location'].mode()[0]\n",
        "data['location']=data['location'].fillna(mode_location)"
      ],
      "metadata": {
        "id": "FJhDZjuzDo5l"
      },
      "execution_count": null,
      "outputs": []
    },
    {
      "cell_type": "code",
      "source": [
        "# filling size\n",
        "mode_size=data['size'].mode()[0]\n",
        "data['size']=data['size'].fillna(mode_size)"
      ],
      "metadata": {
        "id": "bFk9BUo6B5W2"
      },
      "execution_count": null,
      "outputs": []
    },
    {
      "cell_type": "code",
      "source": [
        "# filling bath\n",
        "median_bath=data['bath'].median()\n",
        "data['bath']=data['bath'].fillna(median_bath)"
      ],
      "metadata": {
        "id": "1amv0hInI6f9"
      },
      "execution_count": null,
      "outputs": []
    },
    {
      "cell_type": "code",
      "source": [
        "#filling balcony\n",
        "mode_balcony=data['balcony'].mode()[0]\n",
        "data['balcony']=data['balcony'].fillna(mode_balcony)\n",
        "data.info()"
      ],
      "metadata": {
        "colab": {
          "base_uri": "https://localhost:8080/"
        },
        "id": "HfuR8QppJ7f1",
        "outputId": "d76c4768-883b-43ba-c851-d9709814335d"
      },
      "execution_count": null,
      "outputs": [
        {
          "output_type": "stream",
          "name": "stdout",
          "text": [
            "<class 'pandas.core.frame.DataFrame'>\n",
            "RangeIndex: 13320 entries, 0 to 13319\n",
            "Data columns (total 9 columns):\n",
            " #   Column        Non-Null Count  Dtype  \n",
            "---  ------        --------------  -----  \n",
            " 0   area_type     13320 non-null  object \n",
            " 1   availability  13320 non-null  object \n",
            " 2   location      13320 non-null  object \n",
            " 3   size          13320 non-null  object \n",
            " 4   society       7818 non-null   object \n",
            " 5   total_sqft    13320 non-null  object \n",
            " 6   bath          13320 non-null  float64\n",
            " 7   balcony       13320 non-null  float64\n",
            " 8   price         13320 non-null  float64\n",
            "dtypes: float64(3), object(6)\n",
            "memory usage: 936.7+ KB\n"
          ]
        }
      ]
    },
    {
      "cell_type": "markdown",
      "source": [
        "## visualisation"
      ],
      "metadata": {
        "id": "XR0xd4R7A7u3"
      }
    },
    {
      "cell_type": "code",
      "source": [
        "import matplotlib.pyplot as plt\n",
        "plt"
      ],
      "metadata": {
        "colab": {
          "base_uri": "https://localhost:8080/"
        },
        "id": "8F4YZ2YC_54L",
        "outputId": "e9312160-4511-4c2a-f9e8-0e701e5ee2e7"
      },
      "execution_count": null,
      "outputs": [
        {
          "output_type": "execute_result",
          "data": {
            "text/plain": [
              "<module 'matplotlib.pyplot' from '/usr/local/lib/python3.11/dist-packages/matplotlib/pyplot.py'>"
            ]
          },
          "metadata": {},
          "execution_count": 380
        }
      ]
    },
    {
      "cell_type": "code",
      "source": [
        "white=data[data['location']=='Whitefield']\n",
        "plt.plot(white.index,white['price'])\n",
        "top_locations=data['location'].value_counts()\n",
        "print(top_locations)"
      ],
      "metadata": {
        "colab": {
          "base_uri": "https://localhost:8080/"
        },
        "id": "yx9B47_mAHKv",
        "outputId": "48df05ea-d4f0-4cf6-e678-000f9bad6068"
      },
      "execution_count": null,
      "outputs": [
        {
          "output_type": "stream",
          "name": "stdout",
          "text": [
            "location\n",
            "Whitefield                         541\n",
            "Sarjapur  Road                     399\n",
            "Electronic City                    302\n",
            "Kanakpura Road                     273\n",
            "Thanisandra                        234\n",
            "                                  ... \n",
            "3rd Stage Raja Rajeshwari Nagar      1\n",
            "Chuchangatta Colony                  1\n",
            "Electronic City Phase 1,             1\n",
            "Chikbasavanapura                     1\n",
            "Abshot Layout                        1\n",
            "Name: count, Length: 1305, dtype: int64\n"
          ]
        },
        {
          "output_type": "display_data",
          "data": {
            "text/plain": [
              "<Figure size 640x480 with 1 Axes>"
            ],
            "image/png": "[encoded data removed]"
          },
          "metadata": {}
        }
      ]
    },
    {
      "cell_type": "code",
      "source": [],
      "metadata": {
        "id": "HC_-L5J0D-aF"
      },
      "execution_count": null,
      "outputs": []
    },
    {
      "cell_type": "markdown",
      "source": [],
      "metadata": {
        "id": "t2S-GyGVLS0x"
      }
    },
    {
      "cell_type": "markdown",
      "source": [
        "## conversion of datatypes"
      ],
      "metadata": {
        "id": "udy8OPWjMWM_"
      }
    },
    {
      "cell_type": "code",
      "source": [
        "from sklearn.preprocessing import LabelEncoder\n",
        "le=LabelEncoder()\n",
        "data['availability']=le.fit_transform(data['availability'])\n",
        "data['location']=le.fit_transform(data['location'])\n",
        "data['size']=le.fit_transform(data['size'])\n",
        "data['total_sqft']=le.fit_transform(data['total_sqft'])\n",
        "data['society']=le.fit_transform(data['society'])\n",
        "data.info()"
      ],
      "metadata": {
        "colab": {
          "base_uri": "https://localhost:8080/"
        },
        "id": "xXmwDAd-Mce1",
        "outputId": "ed809f4d-ab0a-4cd9-c3e8-06d8fec1033a"
      },
      "execution_count": null,
      "outputs": [
        {
          "output_type": "stream",
          "name": "stdout",
          "text": [
            "<class 'pandas.core.frame.DataFrame'>\n",
            "RangeIndex: 13320 entries, 0 to 13319\n",
            "Data columns (total 9 columns):\n",
            " #   Column        Non-Null Count  Dtype  \n",
            "---  ------        --------------  -----  \n",
            " 0   area_type     13320 non-null  object \n",
            " 1   availability  13320 non-null  int64  \n",
            " 2   location      13320 non-null  int64  \n",
            " 3   size          13320 non-null  int64  \n",
            " 4   society       13320 non-null  int64  \n",
            " 5   total_sqft    13320 non-null  int64  \n",
            " 6   bath          13320 non-null  float64\n",
            " 7   balcony       13320 non-null  float64\n",
            " 8   price         13320 non-null  float64\n",
            "dtypes: float64(3), int64(5), object(1)\n",
            "memory usage: 936.7+ KB\n"
          ]
        }
      ]
    },
    {
      "cell_type": "code",
      "source": [
        "data['area_type'].unique()"
      ],
      "metadata": {
        "colab": {
          "base_uri": "https://localhost:8080/"
        },
        "id": "gx2Gj9et2JS_",
        "outputId": "e590b9b5-b888-4289-eafd-1b4fa0d1ec19"
      },
      "execution_count": null,
      "outputs": [
        {
          "output_type": "execute_result",
          "data": {
            "text/plain": [
              "array(['Super built-up  Area', 'Plot  Area', 'Built-up  Area',\n",
              "       'Carpet  Area'], dtype=object)"
            ]
          },
          "metadata": {},
          "execution_count": 383
        }
      ]
    },
    {
      "cell_type": "code",
      "source": [
        "data['area_type'].replace(['Plot  Area','Super built-up  Area','Built-up  Area','Carpet  Area'],[1,2,3,4],inplace=True)"
      ],
      "metadata": {
        "colab": {
          "base_uri": "https://localhost:8080/"
        },
        "id": "L8m17zoWu2vP",
        "outputId": "3382b225-ecb4-4762-838a-43371f34c6ba"
      },
      "execution_count": null,
      "outputs": [
        {
          "output_type": "stream",
          "name": "stderr",
          "text": [
            "<ipython-input-384-d3cd87828aed>:1: FutureWarning: A value is trying to be set on a copy of a DataFrame or Series through chained assignment using an inplace method.\n",
            "The behavior will change in pandas 3.0. This inplace method will never work because the intermediate object on which we are setting values always behaves as a copy.\n",
            "\n",
            "For example, when doing 'df[col].method(value, inplace=True)', try using 'df.method({col: value}, inplace=True)' or df[col] = df[col].method(value) instead, to perform the operation inplace on the original object.\n",
            "\n",
            "\n",
            "  data['area_type'].replace(['Plot  Area','Super built-up  Area','Built-up  Area','Carpet  Area'],[1,2,3,4],inplace=True)\n",
            "<ipython-input-384-d3cd87828aed>:1: FutureWarning: Downcasting behavior in `replace` is deprecated and will be removed in a future version. To retain the old behavior, explicitly call `result.infer_objects(copy=False)`. To opt-in to the future behavior, set `pd.set_option('future.no_silent_downcasting', True)`\n",
            "  data['area_type'].replace(['Plot  Area','Super built-up  Area','Built-up  Area','Carpet  Area'],[1,2,3,4],inplace=True)\n"
          ]
        }
      ]
    },
    {
      "cell_type": "code",
      "source": [
        "data"
      ],
      "metadata": {
        "colab": {
          "base_uri": "https://localhost:8080/",
          "height": 443
        },
        "id": "wpjnhDjH1Vat",
        "outputId": "e12f8c0e-0b3e-4c7b-9bb1-8c71eaf75e8f"
      },
      "execution_count": null,
      "outputs": [
        {
          "output_type": "execute_result",
          "data": {
            "text/plain": [
              "       area_type  availability  location  size  society  total_sqft  bath  \\\n",
              "0              2            40       419    13      464          70   2.0   \n",
              "1              1            80       317    19     2439        1288   5.0   \n",
              "2              3            80      1179    16     2688         514   2.0   \n",
              "3              2            80       757    16     2186         602   3.0   \n",
              "4              2            80       716    13     2688         239   2.0   \n",
              "...          ...           ...       ...   ...      ...         ...   ...   \n",
              "13315          3            80      1252    22      209        1499   4.0   \n",
              "13316          2            80      1004    18     2688        1535   5.0   \n",
              "13317          3            80       972    13     1216         172   2.0   \n",
              "13318          2            32       907    18     2205        1680   4.0   \n",
              "13319          2            80       396     0     2688        1747   1.0   \n",
              "\n",
              "       balcony   price  \n",
              "0          1.0   39.07  \n",
              "1          3.0  120.00  \n",
              "2          3.0   62.00  \n",
              "3          1.0   95.00  \n",
              "4          1.0   51.00  \n",
              "...        ...     ...  \n",
              "13315      0.0  231.00  \n",
              "13316      2.0  400.00  \n",
              "13317      1.0   60.00  \n",
              "13318      1.0  488.00  \n",
              "13319      1.0   17.00  \n",
              "\n",
              "[13320 rows x 9 columns]"
            ],
            "text/html": [
              "\n",
              "  <div id=\"df-d84da562-c58d-4591-932b-51aea5d68a7b\" class=\"colab-df-container\">\n",
              "    <div>\n",
              "<style scoped>\n",
              "    .dataframe tbody tr th:only-of-type {\n",
              "        vertical-align: middle;\n",
              "    }\n",
              "\n",
              "    .dataframe tbody tr th {\n",
              "        vertical-align: top;\n",
              "    }\n",
              "\n",
              "    .dataframe thead th {\n",
              "        text-align: right;\n",
              "    }\n",
              "</style>\n",
              "<table border=\"1\" class=\"dataframe\">\n",
              "  <thead>\n",
              "    <tr style=\"text-align: right;\">\n",
              "      <th></th>\n",
              "      <th>area_type</th>\n",
              "      <th>availability</th>\n",
              "      <th>location</th>\n",
              "      <th>size</th>\n",
              "      <th>society</th>\n",
              "      <th>total_sqft</th>\n",
              "      <th>bath</th>\n",
              "      <th>balcony</th>\n",
              "      <th>price</th>\n",
              "    </tr>\n",
              "  </thead>\n",
              "  <tbody>\n",
              "    <tr>\n",
              "      <th>0</th>\n",
              "      <td>2</td>\n",
              "      <td>40</td>\n",
              "      <td>419</td>\n",
              "      <td>13</td>\n",
              "      <td>464</td>\n",
              "      <td>70</td>\n",
              "      <td>2.0</td>\n",
              "      <td>1.0</td>\n",
              "      <td>39.07</td>\n",
              "    </tr>\n",
              "    <tr>\n",
              "      <th>1</th>\n",
              "      <td>1</td>\n",
              "      <td>80</td>\n",
              "      <td>317</td>\n",
              "      <td>19</td>\n",
              "      <td>2439</td>\n",
              "      <td>1288</td>\n",
              "      <td>5.0</td>\n",
              "      <td>3.0</td>\n",
              "      <td>120.00</td>\n",
              "    </tr>\n",
              "    <tr>\n",
              "      <th>2</th>\n",
              "      <td>3</td>\n",
              "      <td>80</td>\n",
              "      <td>1179</td>\n",
              "      <td>16</td>\n",
              "      <td>2688</td>\n",
              "      <td>514</td>\n",
              "      <td>2.0</td>\n",
              "      <td>3.0</td>\n",
              "      <td>62.00</td>\n",
              "    </tr>\n",
              "    <tr>\n",
              "      <th>3</th>\n",
              "      <td>2</td>\n",
              "      <td>80</td>\n",
              "      <td>757</td>\n",
              "      <td>16</td>\n",
              "      <td>2186</td>\n",
              "      <td>602</td>\n",
              "      <td>3.0</td>\n",
              "      <td>1.0</td>\n",
              "      <td>95.00</td>\n",
              "    </tr>\n",
              "    <tr>\n",
              "      <th>4</th>\n",
              "      <td>2</td>\n",
              "      <td>80</td>\n",
              "      <td>716</td>\n",
              "      <td>13</td>\n",
              "      <td>2688</td>\n",
              "      <td>239</td>\n",
              "      <td>2.0</td>\n",
              "      <td>1.0</td>\n",
              "      <td>51.00</td>\n",
              "    </tr>\n",
              "    <tr>\n",
              "      <th>...</th>\n",
              "      <td>...</td>\n",
              "      <td>...</td>\n",
              "      <td>...</td>\n",
              "      <td>...</td>\n",
              "      <td>...</td>\n",
              "      <td>...</td>\n",
              "      <td>...</td>\n",
              "      <td>...</td>\n",
              "      <td>...</td>\n",
              "    </tr>\n",
              "    <tr>\n",
              "      <th>13315</th>\n",
              "      <td>3</td>\n",
              "      <td>80</td>\n",
              "      <td>1252</td>\n",
              "      <td>22</td>\n",
              "      <td>209</td>\n",
              "      <td>1499</td>\n",
              "      <td>4.0</td>\n",
              "      <td>0.0</td>\n",
              "      <td>231.00</td>\n",
              "    </tr>\n",
              "    <tr>\n",
              "      <th>13316</th>\n",
              "      <td>2</td>\n",
              "      <td>80</td>\n",
              "      <td>1004</td>\n",
              "      <td>18</td>\n",
              "      <td>2688</td>\n",
              "      <td>1535</td>\n",
              "      <td>5.0</td>\n",
              "      <td>2.0</td>\n",
              "      <td>400.00</td>\n",
              "    </tr>\n",
              "    <tr>\n",
              "      <th>13317</th>\n",
              "      <td>3</td>\n",
              "      <td>80</td>\n",
              "      <td>972</td>\n",
              "      <td>13</td>\n",
              "      <td>1216</td>\n",
              "      <td>172</td>\n",
              "      <td>2.0</td>\n",
              "      <td>1.0</td>\n",
              "      <td>60.00</td>\n",
              "    </tr>\n",
              "    <tr>\n",
              "      <th>13318</th>\n",
              "      <td>2</td>\n",
              "      <td>32</td>\n",
              "      <td>907</td>\n",
              "      <td>18</td>\n",
              "      <td>2205</td>\n",
              "      <td>1680</td>\n",
              "      <td>4.0</td>\n",
              "      <td>1.0</td>\n",
              "      <td>488.00</td>\n",
              "    </tr>\n",
              "    <tr>\n",
              "      <th>13319</th>\n",
              "      <td>2</td>\n",
              "      <td>80</td>\n",
              "      <td>396</td>\n",
              "      <td>0</td>\n",
              "      <td>2688</td>\n",
              "      <td>1747</td>\n",
              "      <td>1.0</td>\n",
              "      <td>1.0</td>\n",
              "      <td>17.00</td>\n",
              "    </tr>\n",
              "  </tbody>\n",
              "</table>\n",
              "<p>13320 rows × 9 columns</p>\n",
              "</div>\n",
              "    <div class=\"colab-df-buttons\">\n",
              "\n",
              "  <div class=\"colab-df-container\">\n",
              "    <button class=\"colab-df-convert\" onclick=\"convertToInteractive('df-d84da562-c58d-4591-932b-51aea5d68a7b')\"\n",
              "            title=\"Convert this dataframe to an interactive table.\"\n",
              "            style=\"display:none;\">\n",
              "\n",
              "  <svg xmlns=\"http://www.w3.org/2000/svg\" height=\"24px\" viewBox=\"0 -960 960 960\">\n",
              "    <path d=\"M120-120v-720h720v720H120Zm60-500h600v-160H180v160Zm220 220h160v-160H400v160Zm0 220h160v-160H400v160ZM180-400h160v-160H180v160Zm440 0h160v-160H620v160ZM180-180h160v-160H180v160Zm440 0h160v-160H620v160Z\"/>\n",
              "  </svg>\n",
              "    </button>\n",
              "\n",
              "  <style>\n",
              "    .colab-df-container {\n",
              "      display:flex;\n",
              "      gap: 12px;\n",
              "    }\n",
              "\n",
              "    .colab-df-convert {\n",
              "      background-color: #E8F0FE;\n",
              "      border: none;\n",
              "      border-radius: 50%;\n",
              "      cursor: pointer;\n",
              "      display: none;\n",
              "      fill: #1967D2;\n",
              "      height: 32px;\n",
              "      padding: 0 0 0 0;\n",
              "      width: 32px;\n",
              "    }\n",
              "\n",
              "    .colab-df-convert:hover {\n",
              "      background-color: #E2EBFA;\n",
              "      box-shadow: 0px 1px 2px rgba(60, 64, 67, 0.3), 0px 1px 3px 1px rgba(60, 64, 67, 0.15);\n",
              "      fill: #174EA6;\n",
              "    }\n",
              "\n",
              "    .colab-df-buttons div {\n",
              "      margin-bottom: 4px;\n",
              "    }\n",
              "\n",
              "    [theme=dark] .colab-df-convert {\n",
              "      background-color: #3B4455;\n",
              "      fill: #D2E3FC;\n",
              "    }\n",
              "\n",
              "    [theme=dark] .colab-df-convert:hover {\n",
              "      background-color: #434B5C;\n",
              "      box-shadow: 0px 1px 3px 1px rgba(0, 0, 0, 0.15);\n",
              "      filter: drop-shadow(0px 1px 2px rgba(0, 0, 0, 0.3));\n",
              "      fill: #FFFFFF;\n",
              "    }\n",
              "  </style>\n",
              "\n",
              "    <script>\n",
              "      const buttonEl =\n",
              "        document.querySelector('#df-d84da562-c58d-4591-932b-51aea5d68a7b button.colab-df-convert');\n",
              "      buttonEl.style.display =\n",
              "        google.colab.kernel.accessAllowed ? 'block' : 'none';\n",
              "\n",
              "      async function convertToInteractive(key) {\n",
              "        const element = document.querySelector('#df-d84da562-c58d-4591-932b-51aea5d68a7b');\n",
              "        const dataTable =\n",
              "          await google.colab.kernel.invokeFunction('convertToInteractive',\n",
              "                                                    [key], {});\n",
              "        if (!dataTable) return;\n",
              "\n",
              "        const docLinkHtml = 'Like what you see? Visit the ' +\n",
              "          '<a target=\"_blank\" href=https://colab.research.google.com/notebooks/data_table.ipynb>data table notebook</a>'\n",
              "          + ' to learn more about interactive tables.';\n",
              "        element.innerHTML = '';\n",
              "        dataTable['output_type'] = 'display_data';\n",
              "        await google.colab.output.renderOutput(dataTable, element);\n",
              "        const docLink = document.createElement('div');\n",
              "        docLink.innerHTML = docLinkHtml;\n",
              "        element.appendChild(docLink);\n",
              "      }\n",
              "    </script>\n",
              "  </div>\n",
              "\n",
              "\n",
              "    <div id=\"df-1d0b45db-8c16-40ce-939e-31b1e392979b\">\n",
              "      <button class=\"colab-df-quickchart\" onclick=\"quickchart('df-1d0b45db-8c16-40ce-939e-31b1e392979b')\"\n",
              "                title=\"Suggest charts\"\n",
              "                style=\"display:none;\">\n",
              "\n",
              "<svg xmlns=\"http://www.w3.org/2000/svg\" height=\"24px\"viewBox=\"0 0 24 24\"\n",
              "     width=\"24px\">\n",
              "    <g>\n",
              "        <path d=\"M19 3H5c-1.1 0-2 .9-2 2v14c0 1.1.9 2 2 2h14c1.1 0 2-.9 2-2V5c0-1.1-.9-2-2-2zM9 17H7v-7h2v7zm4 0h-2V7h2v10zm4 0h-2v-4h2v4z\"/>\n",
              "    </g>\n",
              "</svg>\n",
              "      </button>\n",
              "\n",
              "<style>\n",
              "  .colab-df-quickchart {\n",
              "      --bg-color: #E8F0FE;\n",
              "      --fill-color: #1967D2;\n",
              "      --hover-bg-color: #E2EBFA;\n",
              "      --hover-fill-color: #174EA6;\n",
              "      --disabled-fill-color: #AAA;\n",
              "      --disabled-bg-color: #DDD;\n",
              "  }\n",
              "\n",
              "  [theme=dark] .colab-df-quickchart {\n",
              "      --bg-color: #3B4455;\n",
              "      --fill-color: #D2E3FC;\n",
              "      --hover-bg-color: #434B5C;\n",
              "      --hover-fill-color: #FFFFFF;\n",
              "      --disabled-bg-color: #3B4455;\n",
              "      --disabled-fill-color: #666;\n",
              "  }\n",
              "\n",
              "  .colab-df-quickchart {\n",
              "    background-color: var(--bg-color);\n",
              "    border: none;\n",
              "    border-radius: 50%;\n",
              "    cursor: pointer;\n",
              "    display: none;\n",
              "    fill: var(--fill-color);\n",
              "    height: 32px;\n",
              "    padding: 0;\n",
              "    width: 32px;\n",
              "  }\n",
              "\n",
              "  .colab-df-quickchart:hover {\n",
              "    background-color: var(--hover-bg-color);\n",
              "    box-shadow: 0 1px 2px rgba(60, 64, 67, 0.3), 0 1px 3px 1px rgba(60, 64, 67, 0.15);\n",
              "    fill: var(--button-hover-fill-color);\n",
              "  }\n",
              "\n",
              "  .colab-df-quickchart-complete:disabled,\n",
              "  .colab-df-quickchart-complete:disabled:hover {\n",
              "    background-color: var(--disabled-bg-color);\n",
              "    fill: var(--disabled-fill-color);\n",
              "    box-shadow: none;\n",
              "  }\n",
              "\n",
              "  .colab-df-spinner {\n",
              "    border: 2px solid var(--fill-color);\n",
              "    border-color: transparent;\n",
              "    border-bottom-color: var(--fill-color);\n",
              "    animation:\n",
              "      spin 1s steps(1) infinite;\n",
              "  }\n",
              "\n",
              "  @keyframes spin {\n",
              "    0% {\n",
              "      border-color: transparent;\n",
              "      border-bottom-color: var(--fill-color);\n",
              "      border-left-color: var(--fill-color);\n",
              "    }\n",
              "    20% {\n",
              "      border-color: transparent;\n",
              "      border-left-color: var(--fill-color);\n",
              "      border-top-color: var(--fill-color);\n",
              "    }\n",
              "    30% {\n",
              "      border-color: transparent;\n",
              "      border-left-color: var(--fill-color);\n",
              "      border-top-color: var(--fill-color);\n",
              "      border-right-color: var(--fill-color);\n",
              "    }\n",
              "    40% {\n",
              "      border-color: transparent;\n",
              "      border-right-color: var(--fill-color);\n",
              "      border-top-color: var(--fill-color);\n",
              "    }\n",
              "    60% {\n",
              "      border-color: transparent;\n",
              "      border-right-color: var(--fill-color);\n",
              "    }\n",
              "    80% {\n",
              "      border-color: transparent;\n",
              "      border-right-color: var(--fill-color);\n",
              "      border-bottom-color: var(--fill-color);\n",
              "    }\n",
              "    90% {\n",
              "      border-color: transparent;\n",
              "      border-bottom-color: var(--fill-color);\n",
              "    }\n",
              "  }\n",
              "</style>\n",
              "\n",
              "      <script>\n",
              "        async function quickchart(key) {\n",
              "          const quickchartButtonEl =\n",
              "            document.querySelector('#' + key + ' button');\n",
              "          quickchartButtonEl.disabled = true;  // To prevent multiple clicks.\n",
              "          quickchartButtonEl.classList.add('colab-df-spinner');\n",
              "          try {\n",
              "            const charts = await google.colab.kernel.invokeFunction(\n",
              "                'suggestCharts', [key], {});\n",
              "          } catch (error) {\n",
              "            console.error('Error during call to suggestCharts:', error);\n",
              "          }\n",
              "          quickchartButtonEl.classList.remove('colab-df-spinner');\n",
              "          quickchartButtonEl.classList.add('colab-df-quickchart-complete');\n",
              "        }\n",
              "        (() => {\n",
              "          let quickchartButtonEl =\n",
              "            document.querySelector('#df-1d0b45db-8c16-40ce-939e-31b1e392979b button');\n",
              "          quickchartButtonEl.style.display =\n",
              "            google.colab.kernel.accessAllowed ? 'block' : 'none';\n",
              "        })();\n",
              "      </script>\n",
              "    </div>\n",
              "\n",
              "  <div id=\"id_00201611-4353-438f-8f19-a90566abe18f\">\n",
              "    <style>\n",
              "      .colab-df-generate {\n",
              "        background-color: #E8F0FE;\n",
              "        border: none;\n",
              "        border-radius: 50%;\n",
              "        cursor: pointer;\n",
              "        display: none;\n",
              "        fill: #1967D2;\n",
              "        height: 32px;\n",
              "        padding: 0 0 0 0;\n",
              "        width: 32px;\n",
              "      }\n",
              "\n",
              "      .colab-df-generate:hover {\n",
              "        background-color: #E2EBFA;\n",
              "        box-shadow: 0px 1px 2px rgba(60, 64, 67, 0.3), 0px 1px 3px 1px rgba(60, 64, 67, 0.15);\n",
              "        fill: #174EA6;\n",
              "      }\n",
              "\n",
              "      [theme=dark] .colab-df-generate {\n",
              "        background-color: #3B4455;\n",
              "        fill: #D2E3FC;\n",
              "      }\n",
              "\n",
              "      [theme=dark] .colab-df-generate:hover {\n",
              "        background-color: #434B5C;\n",
              "        box-shadow: 0px 1px 3px 1px rgba(0, 0, 0, 0.15);\n",
              "        filter: drop-shadow(0px 1px 2px rgba(0, 0, 0, 0.3));\n",
              "        fill: #FFFFFF;\n",
              "      }\n",
              "    </style>\n",
              "    <button class=\"colab-df-generate\" onclick=\"generateWithVariable('data')\"\n",
              "            title=\"Generate code using this dataframe.\"\n",
              "            style=\"display:none;\">\n",
              "\n",
              "  <svg xmlns=\"http://www.w3.org/2000/svg\" height=\"24px\"viewBox=\"0 0 24 24\"\n",
              "       width=\"24px\">\n",
              "    <path d=\"M7,19H8.4L18.45,9,17,7.55,7,17.6ZM5,21V16.75L18.45,3.32a2,2,0,0,1,2.83,0l1.4,1.43a1.91,1.91,0,0,1,.58,1.4,1.91,1.91,0,0,1-.58,1.4L9.25,21ZM18.45,9,17,7.55Zm-12,3A5.31,5.31,0,0,0,4.9,8.1,5.31,5.31,0,0,0,1,6.5,5.31,5.31,0,0,0,4.9,4.9,5.31,5.31,0,0,0,6.5,1,5.31,5.31,0,0,0,8.1,4.9,5.31,5.31,0,0,0,12,6.5,5.46,5.46,0,0,0,6.5,12Z\"/>\n",
              "  </svg>\n",
              "    </button>\n",
              "    <script>\n",
              "      (() => {\n",
              "      const buttonEl =\n",
              "        document.querySelector('#id_00201611-4353-438f-8f19-a90566abe18f button.colab-df-generate');\n",
              "      buttonEl.style.display =\n",
              "        google.colab.kernel.accessAllowed ? 'block' : 'none';\n",
              "\n",
              "      buttonEl.onclick = () => {\n",
              "        google.colab.notebook.generateWithVariable('data');\n",
              "      }\n",
              "      })();\n",
              "    </script>\n",
              "  </div>\n",
              "\n",
              "    </div>\n",
              "  </div>\n"
            ],
            "application/vnd.google.colaboratory.intrinsic+json": {
              "type": "dataframe",
              "variable_name": "data",
              "summary": "{\n  \"name\": \"data\",\n  \"rows\": 13320,\n  \"fields\": [\n    {\n      \"column\": \"area_type\",\n      \"properties\": {\n        \"dtype\": \"number\",\n        \"std\": 0,\n        \"min\": 1,\n        \"max\": 4,\n        \"num_unique_values\": 4,\n        \"samples\": [\n          1,\n          4,\n          2\n        ],\n        \"semantic_type\": \"\",\n        \"description\": \"\"\n      }\n    },\n    {\n      \"column\": \"availability\",\n      \"properties\": {\n        \"dtype\": \"number\",\n        \"std\": 18,\n        \"min\": 0,\n        \"max\": 80,\n        \"num_unique_values\": 81,\n        \"samples\": [\n          37,\n          40,\n          74\n        ],\n        \"semantic_type\": \"\",\n        \"description\": \"\"\n      }\n    },\n    {\n      \"column\": \"location\",\n      \"properties\": {\n        \"dtype\": \"number\",\n        \"std\": 365,\n        \"min\": 0,\n        \"max\": 1304,\n        \"num_unique_values\": 1305,\n        \"samples\": [\n          145,\n          809,\n          290\n        ],\n        \"semantic_type\": \"\",\n        \"description\": \"\"\n      }\n    },\n    {\n      \"column\": \"size\",\n      \"properties\": {\n        \"dtype\": \"number\",\n        \"std\": 4,\n        \"min\": 0,\n        \"max\": 30,\n        \"num_unique_values\": 31,\n        \"samples\": [\n          27,\n          22,\n          12\n        ],\n        \"semantic_type\": \"\",\n        \"description\": \"\"\n      }\n    },\n    {\n      \"column\": \"society\",\n      \"properties\": {\n        \"dtype\": \"number\",\n        \"std\": 865,\n        \"min\": 0,\n        \"max\": 2688,\n        \"num_unique_values\": 2689,\n        \"samples\": [\n          546,\n          168,\n          348\n        ],\n        \"semantic_type\": \"\",\n        \"description\": \"\"\n      }\n    },\n    {\n      \"column\": \"total_sqft\",\n      \"properties\": {\n        \"dtype\": \"number\",\n        \"std\": 630,\n        \"min\": 0,\n        \"max\": 2116,\n        \"num_unique_values\": 2117,\n        \"samples\": [\n          1730,\n          1967,\n          176\n        ],\n        \"semantic_type\": \"\",\n        \"description\": \"\"\n      }\n    },\n    {\n      \"column\": \"bath\",\n      \"properties\": {\n        \"dtype\": \"number\",\n        \"std\": 1.3387537770893119,\n        \"min\": 1.0,\n        \"max\": 40.0,\n        \"num_unique_values\": 19,\n        \"samples\": [\n          2.0,\n          1.0,\n          14.0\n        ],\n        \"semantic_type\": \"\",\n        \"description\": \"\"\n      }\n    },\n    {\n      \"column\": \"balcony\",\n      \"properties\": {\n        \"dtype\": \"number\",\n        \"std\": 0.8030671725471734,\n        \"min\": 0.0,\n        \"max\": 3.0,\n        \"num_unique_values\": 4,\n        \"samples\": [\n          3.0,\n          0.0,\n          1.0\n        ],\n        \"semantic_type\": \"\",\n        \"description\": \"\"\n      }\n    },\n    {\n      \"column\": \"price\",\n      \"properties\": {\n        \"dtype\": \"number\",\n        \"std\": 148.9716737696744,\n        \"min\": 8.0,\n        \"max\": 3600.0,\n        \"num_unique_values\": 1994,\n        \"samples\": [\n          93.25,\n          33.645,\n          62.55\n        ],\n        \"semantic_type\": \"\",\n        \"description\": \"\"\n      }\n    }\n  ]\n}"
            }
          },
          "metadata": {},
          "execution_count": 385
        }
      ]
    },
    {
      "cell_type": "markdown",
      "source": [
        "## correlation analysis"
      ],
      "metadata": {
        "id": "dNDji-Q0LU1I"
      }
    },
    {
      "cell_type": "code",
      "source": [
        "import seaborn as sns\n",
        "import matplotlib.pyplot as plt\n",
        "corr_matrix=data.corr()\n",
        "sns.heatmap(corr_matrix,annot=True,fmt='0.01f',cmap='coolwarm')\n",
        "plt.title(\"matrix\")\n",
        "plt.show()"
      ],
      "metadata": {
        "colab": {
          "base_uri": "https://localhost:8080/",
          "height": 514
        },
        "id": "5N4alGnXLZ69",
        "outputId": "03b5f9b5-cf0e-47e4-ee01-bb4d96864df1"
      },
      "execution_count": null,
      "outputs": [
        {
          "output_type": "display_data",
          "data": {
            "text/plain": [
              "<Figure size 640x480 with 2 Axes>"
            ],
            "image/png": "[encoded data removed]"
          },
          "metadata": {}
        }
      ]
    },
    {
      "cell_type": "code",
      "source": [
        "# calculating correlation between price and other variables"
      ],
      "metadata": {
        "id": "yjFb_RhnMStd"
      },
      "execution_count": null,
      "outputs": []
    },
    {
      "cell_type": "code",
      "source": [
        "price_b=data.corr()['price'].drop('price')\n",
        "# heat map\n",
        "sns.heatmap(price_b.to_frame(),annot=True,fmt='.2f')\n",
        "plt.title('correlaion with price')\n",
        "plt.show()"
      ],
      "metadata": {
        "colab": {
          "base_uri": "https://localhost:8080/",
          "height": 452
        },
        "id": "J8VDubV3NZMA",
        "outputId": "7d340b8b-c454-4ac1-8bbf-bf3fcc57ddcd"
      },
      "execution_count": null,
      "outputs": [
        {
          "output_type": "display_data",
          "data": {
            "text/plain": [
              "<Figure size 640x480 with 2 Axes>"
            ],
            "image/png": "[encoded data removed]"
          },
          "metadata": {}
        }
      ]
    },
    {
      "cell_type": "code",
      "source": [
        "data.drop('location',axis=1,inplace=True)"
      ],
      "metadata": {
        "id": "a-0EJI8cNgQt"
      },
      "execution_count": null,
      "outputs": []
    },
    {
      "cell_type": "code",
      "source": [
        "# running without removing the outliers\n",
        "from sklearn.model_selection import train_test_split\n",
        "from sklearn.linear_model import LinearRegression\n",
        "x=data[['bath','total_sqft','size','society','availability','balcony']]\n",
        "y=data[['price']]\n",
        "xtrain,xtest,ytrain,ytest=train_test_split(x,y,test_size=0.2,random_state=42)\n",
        "\n",
        "model=LinearRegression()\n",
        "model.fit(x,y)\n",
        "\n",
        "m=model.score(xtest,ytest)\n",
        "print(f'{m:.2f}')"
      ],
      "metadata": {
        "colab": {
          "base_uri": "https://localhost:8080/"
        },
        "id": "DjoYjVvkOuCK",
        "outputId": "6dcac276-73a5-4412-9f08-543c536fd491"
      },
      "execution_count": null,
      "outputs": [
        {
          "output_type": "stream",
          "name": "stdout",
          "text": [
            "0.24\n"
          ]
        }
      ]
    },
    {
      "cell_type": "code",
      "source": [
        "# removing the outliers\n",
        "data.boxplot()"
      ],
      "metadata": {
        "id": "iurFJkNsQkId",
        "colab": {
          "base_uri": "https://localhost:8080/",
          "height": 447
        },
        "outputId": "c8a79424-14bb-4cf6-c23e-772ab21e2ab9"
      },
      "execution_count": null,
      "outputs": [
        {
          "output_type": "execute_result",
          "data": {
            "text/plain": [
              "<Axes: >"
            ]
          },
          "metadata": {},
          "execution_count": 391
        },
        {
          "output_type": "display_data",
          "data": {
            "text/plain": [
              "<Figure size 640x480 with 1 Axes>"
            ],
            "image/png": "[encoded data removed]"
          },
          "metadata": {}
        }
      ]
    },
    {
      "cell_type": "code",
      "source": [
        "# removing the outliers"
      ],
      "metadata": {
        "id": "DZsD0FZq48gm"
      },
      "execution_count": null,
      "outputs": []
    },
    {
      "cell_type": "code",
      "source": [
        "def remove_outliers(data,exclude_column):\n",
        "  for col in data.columns:\n",
        "    if col==exclude_column:\n",
        "      continue\n",
        "    Q1=data[col].quantile(0.25)\n",
        "    Q3=data[col].quantile(0.75)\n",
        "    IQR=Q3-Q1\n",
        "    lower_bound=Q1-1.5*IQR\n",
        "    upper_bound=Q3+1.5*IQR\n",
        "\n",
        "    data=data[(data[col]>=lower_bound)&(data[col]<=upper_bound)]\n",
        "  return data\n",
        "df_cleaned=remove_outliers(data,exclude_column='price')\n",
        "data=df_cleaned"
      ],
      "metadata": {
        "id": "LFTQSSeo5AfK"
      },
      "execution_count": null,
      "outputs": []
    },
    {
      "cell_type": "code",
      "source": [
        "#after removing the outliers\n",
        "from sklearn.model_selection import train_test_split\n",
        "from sklearn.linear_model import LinearRegression\n",
        "x=data[['bath','total_sqft','size','society','availability','balcony']]\n",
        "y=data[['price']]\n",
        "xtrain,xtest,ytrain,ytest=train_test_split(x,y,test_size=0.2,random_state=42)\n",
        "\n",
        "model=LinearRegression()\n",
        "model.fit(x,y)\n",
        "\n",
        "m=model.score(xtest,ytest)\n",
        "print(f'{m:.2f}')"
      ],
      "metadata": {
        "colab": {
          "base_uri": "https://localhost:8080/"
        },
        "id": "kmmLLs1w52Ot",
        "outputId": "da6acd29-2aa6-46c7-a142-adae7b7cf8b9"
      },
      "execution_count": null,
      "outputs": [
        {
          "output_type": "stream",
          "name": "stdout",
          "text": [
            "0.43\n"
          ]
        }
      ]
    },
    {
      "cell_type": "markdown",
      "source": [
        "## Min-Max Scaler"
      ],
      "metadata": {
        "id": "MBebopu76Gyt"
      }
    },
    {
      "cell_type": "code",
      "source": [
        "# from sklearn.preprocessing import MinMaxScaler\n",
        "# #\n",
        "# features=['bath','total_sqft','size','society','availability','balcony']\n",
        "# #\n",
        "# scaler=MinMaxScaler()\n",
        "# scaled_data_array=scaler.fit_transform(data[features])\n",
        "\n",
        "# scaled_data=pd.DataFrame(scaled_data_array,columns=features,index=data.index)\n",
        "# scaled_data"
      ],
      "metadata": {
        "id": "Ie4w45by6GUg"
      },
      "execution_count": null,
      "outputs": []
    },
    {
      "cell_type": "code",
      "source": [
        "# #after removing the outliers\n",
        "# from sklearn.model_selection import train_test_split\n",
        "# from sklearn.linear_model import LinearRegression\n",
        "# x=data[['bath','total_sqft','size','society','availability','balcony']]\n",
        "# y=data[['price']]\n",
        "# xtrain,xtest,ytrain,ytest=train_test_split(x,y,test_size=0.2,random_state=42)\n",
        "\n",
        "# model=LinearRegression()\n",
        "# model.fit(x,y)\n",
        "\n",
        "# m=model.score(xtest,ytest)\n",
        "# print(f'{m:.2f}')"
      ],
      "metadata": {
        "id": "ZzZzG-j961ph"
      },
      "execution_count": null,
      "outputs": []
    },
    {
      "cell_type": "markdown",
      "source": [
        "## Standared Scaler"
      ],
      "metadata": {
        "id": "pwx67_eE7FAt"
      }
    },
    {
      "cell_type": "code",
      "source": [
        "# from sklearn.preprocessing import StandardScaler\n",
        "\n",
        "# # features\n",
        "\n",
        "# scaler=StandardScaler()\n",
        "# features=['bath','total_sqft','size','society','availability','balcony']\n",
        "# # fit\n",
        "# scaled_data_array=scaler.fit_transform(data[features])\n",
        "# scaled_data=pd.DataFrame(scaled_data_array,columns=features,index=data.index)"
      ],
      "metadata": {
        "id": "gycO_DuR7KB2"
      },
      "execution_count": null,
      "outputs": []
    },
    {
      "cell_type": "code",
      "source": [
        "# #after removing the outliers\n",
        "# from sklearn.model_selection import train_test_split\n",
        "# from sklearn.linear_model import LinearRegression\n",
        "# x=data[['bath','total_sqft','size','society','availability','balcony']]\n",
        "# y=data[['price']]\n",
        "# xtrain,xtest,ytrain,ytest=train_test_split(x,y,test_size=0.2,random_state=42)\n",
        "\n",
        "# model=LinearRegression()\n",
        "# model.fit(x,y)\n",
        "\n",
        "# m=model.score(xtest,ytest)\n",
        "# print(f'{m:.2f}')"
      ],
      "metadata": {
        "colab": {
          "base_uri": "https://localhost:8080/"
        },
        "id": "QeD-QA9X7twr",
        "outputId": "654f3b50-c847-4865-9148-f126dafc5b89"
      },
      "execution_count": null,
      "outputs": [
        {
          "output_type": "stream",
          "name": "stdout",
          "text": [
            "0.43\n"
          ]
        }
      ]
    },
    {
      "cell_type": "markdown",
      "source": [
        "## performing k-fold"
      ],
      "metadata": {
        "id": "d-zqBIqF8Ao3"
      }
    },
    {
      "cell_type": "code",
      "source": [
        "from sklearn.model_selection import KFold\n",
        "from sklearn.linear_model import LinearRegression\n",
        "kf=KFold(n_splits=5,shuffle=True,random_state=42)\n",
        "model=LinearRegression()"
      ],
      "metadata": {
        "id": "KDFMM0MD8DO_"
      },
      "execution_count": null,
      "outputs": []
    },
    {
      "cell_type": "code",
      "source": [
        "best_accuracy=0\n",
        "best_fold=1"
      ],
      "metadata": {
        "id": "3oOebmK28SH9"
      },
      "execution_count": null,
      "outputs": []
    },
    {
      "cell_type": "code",
      "source": [
        "best_x_train=None\n",
        "best_y_train=None\n",
        "best_x_test=None\n",
        "best_y_test=None\n",
        "best_y_pred=None"
      ],
      "metadata": {
        "id": "cKe9-M5-8X2e"
      },
      "execution_count": null,
      "outputs": []
    },
    {
      "cell_type": "code",
      "source": [
        "kf"
      ],
      "metadata": {
        "colab": {
          "base_uri": "https://localhost:8080/"
        },
        "id": "SManNlzJ8iEL",
        "outputId": "e485285f-ee9a-4ec9-9fe4-a2b129f85844"
      },
      "execution_count": null,
      "outputs": [
        {
          "output_type": "execute_result",
          "data": {
            "text/plain": [
              "KFold(n_splits=5, random_state=42, shuffle=True)"
            ]
          },
          "metadata": {},
          "execution_count": 402
        }
      ]
    },
    {
      "cell_type": "code",
      "source": [
        "from sklearn.metrics import accuracy_score\n",
        "for fold,(train_index,test_index) in enumerate(kf.split(x),1):\n",
        "  xtrain,xtest=x.iloc[train_index],x.iloc[test_index]\n",
        "  ytrain,ytest=y.iloc[train_index],y.iloc[test_index]\n",
        "\n",
        "  model.fit(xtrain,ytrain)\n",
        "  #predict\n",
        "  acc=model.score(xtest,ytest)\n",
        "  print(\"______________________\")\n",
        "  print(f'fold{fold} has accuracy:{acc}')\n",
        "\n",
        "  #\n",
        "  if acc>best_accuracy:\n",
        "    best_accuracy=acc\n",
        "    best_fold=fold\n",
        "    best_x_train=xtrain\n",
        "    best_x_test=xtest\n",
        "    best_y_train=ytrain\n",
        "    best_y_test=ytest\n",
        "#output the best\n",
        "print(f\"\\n Best Fold:{best_fold} with accuracy:{best_accuracy}\")"
      ],
      "metadata": {
        "colab": {
          "base_uri": "https://localhost:8080/"
        },
        "id": "0UA3Ojbg8kTb",
        "outputId": "9cb04212-2956-418a-bab8-bad4f257f5e8"
      },
      "execution_count": null,
      "outputs": [
        {
          "output_type": "stream",
          "name": "stdout",
          "text": [
            "______________________\n",
            "fold1 has accuracy:0.42436193542498857\n",
            "______________________\n",
            "fold2 has accuracy:0.5499564926467819\n",
            "______________________\n",
            "fold3 has accuracy:0.49117448718272827\n",
            "______________________\n",
            "fold4 has accuracy:0.41544363742818513\n",
            "______________________\n",
            "fold5 has accuracy:0.5276143317875013\n",
            "\n",
            " Best Fold:2 with accuracy:0.5499564926467819\n"
          ]
        }
      ]
    },
    {
      "cell_type": "code",
      "source": [
        "#after removing the outliers\n",
        "from sklearn.model_selection import train_test_split\n",
        "from sklearn.linear_model import LinearRegression\n",
        "x=data[['bath','total_sqft','size','society','availability','balcony']]\n",
        "y=data[['price']]\n",
        "xtrain=best_x_train\n",
        "xtest=best_x_test\n",
        "ytrain=best_y_train\n",
        "ytest=best_y_test\n",
        "# model\n",
        "model=LinearRegression()\n",
        "model.fit(x,y)\n",
        "\n",
        "m=model.score(xtest,ytest)\n",
        "print(f'{m:.2f}')"
      ],
      "metadata": {
        "colab": {
          "base_uri": "https://localhost:8080/"
        },
        "id": "F32WzZ1e8_sf",
        "outputId": "28252d63-e622-4164-9f58-33f3b9eee7cc"
      },
      "execution_count": null,
      "outputs": [
        {
          "output_type": "stream",
          "name": "stdout",
          "text": [
            "0.55\n"
          ]
        }
      ]
    },
    {
      "cell_type": "code",
      "source": [
        "\n",
        "\n",
        "from sklearn.linear_model import LinearRegression, Ridge, Lasso, ElasticNet\n",
        "from sklearn.tree import DecisionTreeRegressor\n",
        "from sklearn.ensemble import RandomForestRegressor, GradientBoostingRegressor, AdaBoostRegressor\n",
        "from sklearn.svm import SVR\n",
        "from sklearn.neighbors import KNeighborsRegressor\n",
        "from sklearn.metrics import r2_score, mean_absolute_error, mean_squared_error\n",
        "import numpy as np\n",
        "\n",
        "# Dictionary of regression models\n",
        "models = {\n",
        "    \"Linear Regression\": LinearRegression(),\n",
        "    \"Ridge Regression\": Ridge(),\n",
        "    \"Lasso Regression\": Lasso(),\n",
        "    \"ElasticNet Regression\": ElasticNet(),\n",
        "    \"Decision Tree\": DecisionTreeRegressor(),\n",
        "    \"Random Forest\": RandomForestRegressor(),\n",
        "    \"Gradient Boosting\": GradientBoostingRegressor(),\n",
        "    \"AdaBoost\": AdaBoostRegressor(),\n",
        "    \"Support Vector Regressor\": SVR(),\n",
        "    \"K-Nearest Neighbors\": KNeighborsRegressor()\n",
        "}\n",
        "\n",
        "# Train and evaluate each model\n",
        "for name, model in models.items():\n",
        "    model.fit(xtrain, ytrain)\n",
        "    y_pred = model.predict(xtest)\n",
        "    acc=model.score(xtest,ytest)\n",
        "\n",
        "    r2 = r2_score(ytest, y_pred)\n",
        "    mae = mean_absolute_error(ytest, y_pred)\n",
        "    mse = mean_squared_error(ytest, y_pred)\n",
        "    rmse = np.sqrt(mse)\n",
        "\n",
        "    print(f\"\\n{name}\")\n",
        "    print(f\"accuracy         :{acc}\")\n",
        "    print(f\"R2 Score       : {r2:.4f}\")\n",
        "    print(f\"MAE (Error)    : {mae:.4f}\")\n",
        "    print(f\"MSE (Error^2)  : {mse:.4f}\")\n",
        "    print(f\"RMSE (Error)   : {rmse:.4f}\")\n"
      ],
      "metadata": {
        "colab": {
          "base_uri": "https://localhost:8080/"
        },
        "id": "-SQjg-6w-5iq",
        "outputId": "5e97d795-fab5-4b42-8e0d-3c7e260519f2"
      },
      "execution_count": null,
      "outputs": [
        {
          "output_type": "stream",
          "name": "stdout",
          "text": [
            "\n",
            "Linear Regression\n",
            "accuracy         :0.5499564926467819\n",
            "R2 Score       : 0.5500\n",
            "MAE (Error)    : 26.9963\n",
            "MSE (Error^2)  : 2176.8399\n",
            "RMSE (Error)   : 46.6566\n",
            "\n",
            "Ridge Regression\n",
            "accuracy         :0.549982805063458\n",
            "R2 Score       : 0.5500\n",
            "MAE (Error)    : 26.9945\n",
            "MSE (Error^2)  : 2176.7126\n",
            "RMSE (Error)   : 46.6553\n",
            "\n",
            "Lasso Regression\n",
            "accuracy         :0.550801694877038\n",
            "R2 Score       : 0.5508\n",
            "MAE (Error)    : 26.8949\n",
            "MSE (Error^2)  : 2172.7517\n",
            "RMSE (Error)   : 46.6128\n",
            "\n",
            "ElasticNet Regression\n",
            "accuracy         :0.5485028720662493\n",
            "R2 Score       : 0.5485\n",
            "MAE (Error)    : 26.9021\n",
            "MSE (Error^2)  : 2183.8710\n",
            "RMSE (Error)   : 46.7319\n",
            "\n",
            "Decision Tree\n",
            "accuracy         :0.21148752061295573\n",
            "R2 Score       : 0.2115\n",
            "MAE (Error)    : 23.2798\n",
            "MSE (Error^2)  : 3813.9988\n",
            "RMSE (Error)   : 61.7576\n"
          ]
        },
        {
          "output_type": "stream",
          "name": "stderr",
          "text": [
            "/usr/local/lib/python3.11/dist-packages/sklearn/base.py:1389: DataConversionWarning: A column-vector y was passed when a 1d array was expected. Please change the shape of y to (n_samples,), for example using ravel().\n",
            "  return fit_method(estimator, *args, **kwargs)\n"
          ]
        },
        {
          "output_type": "stream",
          "name": "stdout",
          "text": [
            "\n",
            "Random Forest\n",
            "accuracy         :0.706188008188745\n",
            "R2 Score       : 0.7062\n",
            "MAE (Error)    : 18.8248\n",
            "MSE (Error^2)  : 1421.1552\n",
            "RMSE (Error)   : 37.6982\n"
          ]
        },
        {
          "output_type": "stream",
          "name": "stderr",
          "text": [
            "/usr/local/lib/python3.11/dist-packages/sklearn/ensemble/_gb.py:672: DataConversionWarning: A column-vector y was passed when a 1d array was expected. Please change the shape of y to (n_samples, ), for example using ravel().\n",
            "  y = column_or_1d(y, warn=True)  # TODO: Is this still required?\n"
          ]
        },
        {
          "output_type": "stream",
          "name": "stdout",
          "text": [
            "\n",
            "Gradient Boosting\n",
            "accuracy         :0.6823661407579544\n",
            "R2 Score       : 0.6824\n",
            "MAE (Error)    : 21.3755\n",
            "MSE (Error^2)  : 1536.3805\n",
            "RMSE (Error)   : 39.1967\n",
            "\n",
            "AdaBoost\n",
            "accuracy         :0.522689967781425\n",
            "R2 Score       : 0.5227\n",
            "MAE (Error)    : 26.5224\n",
            "MSE (Error^2)  : 2308.7268\n",
            "RMSE (Error)   : 48.0492\n"
          ]
        },
        {
          "output_type": "stream",
          "name": "stderr",
          "text": [
            "/usr/local/lib/python3.11/dist-packages/sklearn/utils/validation.py:1408: DataConversionWarning: A column-vector y was passed when a 1d array was expected. Please change the shape of y to (n_samples, ), for example using ravel().\n",
            "  y = column_or_1d(y, warn=True)\n",
            "/usr/local/lib/python3.11/dist-packages/sklearn/utils/validation.py:1408: DataConversionWarning: A column-vector y was passed when a 1d array was expected. Please change the shape of y to (n_samples, ), for example using ravel().\n",
            "  y = column_or_1d(y, warn=True)\n"
          ]
        },
        {
          "output_type": "stream",
          "name": "stdout",
          "text": [
            "\n",
            "Support Vector Regressor\n",
            "accuracy         :0.429902312575035\n",
            "R2 Score       : 0.4299\n",
            "MAE (Error)    : 24.9874\n",
            "MSE (Error^2)  : 2757.5365\n",
            "RMSE (Error)   : 52.5123\n",
            "\n",
            "K-Nearest Neighbors\n",
            "accuracy         :0.7251352849201425\n",
            "R2 Score       : 0.7251\n",
            "MAE (Error)    : 19.7125\n",
            "MSE (Error^2)  : 1329.5081\n",
            "RMSE (Error)   : 36.4624\n"
          ]
        }
      ]
    },
    {
      "cell_type": "code",
      "source": [],
      "metadata": {
        "id": "lwto7lMS_umZ"
      },
      "execution_count": null,
      "outputs": []
    }
  ]
}