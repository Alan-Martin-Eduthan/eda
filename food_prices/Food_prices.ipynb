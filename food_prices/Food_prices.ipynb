{
  "nbformat": 4,
  "nbformat_minor": 0,
  "metadata": {
    "colab": {
      "provenance": []
    },
    "kernelspec": {
      "name": "python3",
      "display_name": "Python 3"
    },
    "language_info": {
      "name": "python"
    }
  },
  "cells": [
    {
      "cell_type": "markdown",
      "source": [
        "## Food prices in India"
      ],
      "metadata": {
        "id": "N6KLgU8jsBBq"
      }
    },
    {
      "cell_type": "code",
      "source": [
        "import pandas as pd\n",
        "import numpy as np\n",
        "import matplotlib.pyplot as plt\n",
        "import seaborn as sns"
      ],
      "metadata": {
        "id": "kRpqH7TEsD02"
      },
      "execution_count": null,
      "outputs": []
    },
    {
      "cell_type": "markdown",
      "source": [
        "## 1.Understanding Data"
      ],
      "metadata": {
        "id": "zqzof9QgsNwh"
      }
    },
    {
      "cell_type": "code",
      "source": [
        "data=pd.read_csv('/content/RAW File - ind-food-prices.csv')\n",
        "data"
      ],
      "metadata": {
        "colab": {
          "base_uri": "https://localhost:8080/",
          "height": 634
        },
        "id": "DpJcVLLNsLGk",
        "outputId": "a309b9a0-ef16-4d95-f174-8b9b3ff216b0"
      },
      "execution_count": null,
      "outputs": [
        {
          "output_type": "stream",
          "name": "stderr",
          "text": [
            "<ipython-input-68-0b1736185e92>:1: DtypeWarning: Columns (4,5,12,13) have mixed types. Specify dtype option on import or set low_memory=False.\n",
            "  data=pd.read_csv('/content/RAW File - ind-food-prices.csv')\n"
          ]
        },
        {
          "output_type": "execute_result",
          "data": {
            "text/plain": [
              "              date      admin1      admin2            market   latitude  \\\n",
              "0            #date  #adm1+name  #adm2+name  #loc+market+name   #geo+lat   \n",
              "1       1994-01-15       Delhi       Delhi             Delhi  28.666667   \n",
              "2       1994-01-15       Delhi       Delhi             Delhi  28.666667   \n",
              "3       1994-01-15       Delhi       Delhi             Delhi  28.666667   \n",
              "4       1994-01-15     Gujarat   Ahmadabad         Ahmedabad  23.033333   \n",
              "...            ...         ...         ...               ...        ...   \n",
              "176790  2024-02-15   Rajasthan      Jaipur        North Zone  26.938848   \n",
              "176791  2024-02-15   Rajasthan      Jaipur        North Zone  26.938848   \n",
              "176792  2024-02-15   Rajasthan      Jaipur        North Zone  26.938848   \n",
              "176793  2024-02-15   Rajasthan      Jaipur        North Zone  26.938848   \n",
              "176794  2024-02-15   Rajasthan      Jaipur        North Zone  26.938848   \n",
              "\n",
              "        longitude               category        commodity        unit  \\\n",
              "0        #geo+lon             #item+type       #item+name  #item+unit   \n",
              "1       77.216667     cereals and tubers            Wheat          KG   \n",
              "2       77.216667     miscellaneous food            Sugar          KG   \n",
              "3       77.216667           oil and fats    Oil (mustard)          KG   \n",
              "4       72.616667     cereals and tubers             Rice          KG   \n",
              "...           ...                    ...              ...         ...   \n",
              "176790  75.800056        pulses and nuts  Lentils (masur)          KG   \n",
              "176791  75.800056        pulses and nuts  Lentils (moong)          KG   \n",
              "176792  75.800056        pulses and nuts   Lentils (urad)          KG   \n",
              "176793  75.800056  vegetables and fruits           Onions          KG   \n",
              "176794  75.800056  vegetables and fruits         Tomatoes          KG   \n",
              "\n",
              "               priceflag         pricetype   currency   price    usdprice  \n",
              "0       #item+price+flag  #item+price+type  #currency  #value  #value+usd  \n",
              "1                 actual            Retail        INR     5.0      0.1594  \n",
              "2                 actual            Retail        INR    13.5      0.4303  \n",
              "3                 actual            Retail        INR    31.0       0.988  \n",
              "4                 actual            Retail        INR     6.8      0.2167  \n",
              "...                  ...               ...        ...     ...         ...  \n",
              "176790            actual            Retail        INR    94.3      1.1363  \n",
              "176791            actual            Retail        INR  112.71      1.3581  \n",
              "176792            actual            Retail        INR  118.43       1.427  \n",
              "176793            actual            Retail        INR   30.51      0.3676  \n",
              "176794            actual            Retail        INR   34.15      0.4115  \n",
              "\n",
              "[176795 rows x 14 columns]"
            ],
            "text/html": [
              "\n",
              "  <div id=\"df-07f99cf1-49cf-4510-9242-4700e8043ca5\" class=\"colab-df-container\">\n",
              "    <div>\n",
              "<style scoped>\n",
              "    .dataframe tbody tr th:only-of-type {\n",
              "        vertical-align: middle;\n",
              "    }\n",
              "\n",
              "    .dataframe tbody tr th {\n",
              "        vertical-align: top;\n",
              "    }\n",
              "\n",
              "    .dataframe thead th {\n",
              "        text-align: right;\n",
              "    }\n",
              "</style>\n",
              "<table border=\"1\" class=\"dataframe\">\n",
              "  <thead>\n",
              "    <tr style=\"text-align: right;\">\n",
              "      <th></th>\n",
              "      <th>date</th>\n",
              "      <th>admin1</th>\n",
              "      <th>admin2</th>\n",
              "      <th>market</th>\n",
              "      <th>latitude</th>\n",
              "      <th>longitude</th>\n",
              "      <th>category</th>\n",
              "      <th>commodity</th>\n",
              "      <th>unit</th>\n",
              "      <th>priceflag</th>\n",
              "      <th>pricetype</th>\n",
              "      <th>currency</th>\n",
              "      <th>price</th>\n",
              "      <th>usdprice</th>\n",
              "    </tr>\n",
              "  </thead>\n",
              "  <tbody>\n",
              "    <tr>\n",
              "      <th>0</th>\n",
              "      <td>#date</td>\n",
              "      <td>#adm1+name</td>\n",
              "      <td>#adm2+name</td>\n",
              "      <td>#loc+market+name</td>\n",
              "      <td>#geo+lat</td>\n",
              "      <td>#geo+lon</td>\n",
              "      <td>#item+type</td>\n",
              "      <td>#item+name</td>\n",
              "      <td>#item+unit</td>\n",
              "      <td>#item+price+flag</td>\n",
              "      <td>#item+price+type</td>\n",
              "      <td>#currency</td>\n",
              "      <td>#value</td>\n",
              "      <td>#value+usd</td>\n",
              "    </tr>\n",
              "    <tr>\n",
              "      <th>1</th>\n",
              "      <td>1994-01-15</td>\n",
              "      <td>Delhi</td>\n",
              "      <td>Delhi</td>\n",
              "      <td>Delhi</td>\n",
              "      <td>28.666667</td>\n",
              "      <td>77.216667</td>\n",
              "      <td>cereals and tubers</td>\n",
              "      <td>Wheat</td>\n",
              "      <td>KG</td>\n",
              "      <td>actual</td>\n",
              "      <td>Retail</td>\n",
              "      <td>INR</td>\n",
              "      <td>5.0</td>\n",
              "      <td>0.1594</td>\n",
              "    </tr>\n",
              "    <tr>\n",
              "      <th>2</th>\n",
              "      <td>1994-01-15</td>\n",
              "      <td>Delhi</td>\n",
              "      <td>Delhi</td>\n",
              "      <td>Delhi</td>\n",
              "      <td>28.666667</td>\n",
              "      <td>77.216667</td>\n",
              "      <td>miscellaneous food</td>\n",
              "      <td>Sugar</td>\n",
              "      <td>KG</td>\n",
              "      <td>actual</td>\n",
              "      <td>Retail</td>\n",
              "      <td>INR</td>\n",
              "      <td>13.5</td>\n",
              "      <td>0.4303</td>\n",
              "    </tr>\n",
              "    <tr>\n",
              "      <th>3</th>\n",
              "      <td>1994-01-15</td>\n",
              "      <td>Delhi</td>\n",
              "      <td>Delhi</td>\n",
              "      <td>Delhi</td>\n",
              "      <td>28.666667</td>\n",
              "      <td>77.216667</td>\n",
              "      <td>oil and fats</td>\n",
              "      <td>Oil (mustard)</td>\n",
              "      <td>KG</td>\n",
              "      <td>actual</td>\n",
              "      <td>Retail</td>\n",
              "      <td>INR</td>\n",
              "      <td>31.0</td>\n",
              "      <td>0.988</td>\n",
              "    </tr>\n",
              "    <tr>\n",
              "      <th>4</th>\n",
              "      <td>1994-01-15</td>\n",
              "      <td>Gujarat</td>\n",
              "      <td>Ahmadabad</td>\n",
              "      <td>Ahmedabad</td>\n",
              "      <td>23.033333</td>\n",
              "      <td>72.616667</td>\n",
              "      <td>cereals and tubers</td>\n",
              "      <td>Rice</td>\n",
              "      <td>KG</td>\n",
              "      <td>actual</td>\n",
              "      <td>Retail</td>\n",
              "      <td>INR</td>\n",
              "      <td>6.8</td>\n",
              "      <td>0.2167</td>\n",
              "    </tr>\n",
              "    <tr>\n",
              "      <th>...</th>\n",
              "      <td>...</td>\n",
              "      <td>...</td>\n",
              "      <td>...</td>\n",
              "      <td>...</td>\n",
              "      <td>...</td>\n",
              "      <td>...</td>\n",
              "      <td>...</td>\n",
              "      <td>...</td>\n",
              "      <td>...</td>\n",
              "      <td>...</td>\n",
              "      <td>...</td>\n",
              "      <td>...</td>\n",
              "      <td>...</td>\n",
              "      <td>...</td>\n",
              "    </tr>\n",
              "    <tr>\n",
              "      <th>176790</th>\n",
              "      <td>2024-02-15</td>\n",
              "      <td>Rajasthan</td>\n",
              "      <td>Jaipur</td>\n",
              "      <td>North Zone</td>\n",
              "      <td>26.938848</td>\n",
              "      <td>75.800056</td>\n",
              "      <td>pulses and nuts</td>\n",
              "      <td>Lentils (masur)</td>\n",
              "      <td>KG</td>\n",
              "      <td>actual</td>\n",
              "      <td>Retail</td>\n",
              "      <td>INR</td>\n",
              "      <td>94.3</td>\n",
              "      <td>1.1363</td>\n",
              "    </tr>\n",
              "    <tr>\n",
              "      <th>176791</th>\n",
              "      <td>2024-02-15</td>\n",
              "      <td>Rajasthan</td>\n",
              "      <td>Jaipur</td>\n",
              "      <td>North Zone</td>\n",
              "      <td>26.938848</td>\n",
              "      <td>75.800056</td>\n",
              "      <td>pulses and nuts</td>\n",
              "      <td>Lentils (moong)</td>\n",
              "      <td>KG</td>\n",
              "      <td>actual</td>\n",
              "      <td>Retail</td>\n",
              "      <td>INR</td>\n",
              "      <td>112.71</td>\n",
              "      <td>1.3581</td>\n",
              "    </tr>\n",
              "    <tr>\n",
              "      <th>176792</th>\n",
              "      <td>2024-02-15</td>\n",
              "      <td>Rajasthan</td>\n",
              "      <td>Jaipur</td>\n",
              "      <td>North Zone</td>\n",
              "      <td>26.938848</td>\n",
              "      <td>75.800056</td>\n",
              "      <td>pulses and nuts</td>\n",
              "      <td>Lentils (urad)</td>\n",
              "      <td>KG</td>\n",
              "      <td>actual</td>\n",
              "      <td>Retail</td>\n",
              "      <td>INR</td>\n",
              "      <td>118.43</td>\n",
              "      <td>1.427</td>\n",
              "    </tr>\n",
              "    <tr>\n",
              "      <th>176793</th>\n",
              "      <td>2024-02-15</td>\n",
              "      <td>Rajasthan</td>\n",
              "      <td>Jaipur</td>\n",
              "      <td>North Zone</td>\n",
              "      <td>26.938848</td>\n",
              "      <td>75.800056</td>\n",
              "      <td>vegetables and fruits</td>\n",
              "      <td>Onions</td>\n",
              "      <td>KG</td>\n",
              "      <td>actual</td>\n",
              "      <td>Retail</td>\n",
              "      <td>INR</td>\n",
              "      <td>30.51</td>\n",
              "      <td>0.3676</td>\n",
              "    </tr>\n",
              "    <tr>\n",
              "      <th>176794</th>\n",
              "      <td>2024-02-15</td>\n",
              "      <td>Rajasthan</td>\n",
              "      <td>Jaipur</td>\n",
              "      <td>North Zone</td>\n",
              "      <td>26.938848</td>\n",
              "      <td>75.800056</td>\n",
              "      <td>vegetables and fruits</td>\n",
              "      <td>Tomatoes</td>\n",
              "      <td>KG</td>\n",
              "      <td>actual</td>\n",
              "      <td>Retail</td>\n",
              "      <td>INR</td>\n",
              "      <td>34.15</td>\n",
              "      <td>0.4115</td>\n",
              "    </tr>\n",
              "  </tbody>\n",
              "</table>\n",
              "<p>176795 rows × 14 columns</p>\n",
              "</div>\n",
              "    <div class=\"colab-df-buttons\">\n",
              "\n",
              "  <div class=\"colab-df-container\">\n",
              "    <button class=\"colab-df-convert\" onclick=\"convertToInteractive('df-07f99cf1-49cf-4510-9242-4700e8043ca5')\"\n",
              "            title=\"Convert this dataframe to an interactive table.\"\n",
              "            style=\"display:none;\">\n",
              "\n",
              "  <svg xmlns=\"http://www.w3.org/2000/svg\" height=\"24px\" viewBox=\"0 -960 960 960\">\n",
              "    <path d=\"M120-120v-720h720v720H120Zm60-500h600v-160H180v160Zm220 220h160v-160H400v160Zm0 220h160v-160H400v160ZM180-400h160v-160H180v160Zm440 0h160v-160H620v160ZM180-180h160v-160H180v160Zm440 0h160v-160H620v160Z\"/>\n",
              "  </svg>\n",
              "    </button>\n",
              "\n",
              "  <style>\n",
              "    .colab-df-container {\n",
              "      display:flex;\n",
              "      gap: 12px;\n",
              "    }\n",
              "\n",
              "    .colab-df-convert {\n",
              "      background-color: #E8F0FE;\n",
              "      border: none;\n",
              "      border-radius: 50%;\n",
              "      cursor: pointer;\n",
              "      display: none;\n",
              "      fill: #1967D2;\n",
              "      height: 32px;\n",
              "      padding: 0 0 0 0;\n",
              "      width: 32px;\n",
              "    }\n",
              "\n",
              "    .colab-df-convert:hover {\n",
              "      background-color: #E2EBFA;\n",
              "      box-shadow: 0px 1px 2px rgba(60, 64, 67, 0.3), 0px 1px 3px 1px rgba(60, 64, 67, 0.15);\n",
              "      fill: #174EA6;\n",
              "    }\n",
              "\n",
              "    .colab-df-buttons div {\n",
              "      margin-bottom: 4px;\n",
              "    }\n",
              "\n",
              "    [theme=dark] .colab-df-convert {\n",
              "      background-color: #3B4455;\n",
              "      fill: #D2E3FC;\n",
              "    }\n",
              "\n",
              "    [theme=dark] .colab-df-convert:hover {\n",
              "      background-color: #434B5C;\n",
              "      box-shadow: 0px 1px 3px 1px rgba(0, 0, 0, 0.15);\n",
              "      filter: drop-shadow(0px 1px 2px rgba(0, 0, 0, 0.3));\n",
              "      fill: #FFFFFF;\n",
              "    }\n",
              "  </style>\n",
              "\n",
              "    <script>\n",
              "      const buttonEl =\n",
              "        document.querySelector('#df-07f99cf1-49cf-4510-9242-4700e8043ca5 button.colab-df-convert');\n",
              "      buttonEl.style.display =\n",
              "        google.colab.kernel.accessAllowed ? 'block' : 'none';\n",
              "\n",
              "      async function convertToInteractive(key) {\n",
              "        const element = document.querySelector('#df-07f99cf1-49cf-4510-9242-4700e8043ca5');\n",
              "        const dataTable =\n",
              "          await google.colab.kernel.invokeFunction('convertToInteractive',\n",
              "                                                    [key], {});\n",
              "        if (!dataTable) return;\n",
              "\n",
              "        const docLinkHtml = 'Like what you see? Visit the ' +\n",
              "          '<a target=\"_blank\" href=https://colab.research.google.com/notebooks/data_table.ipynb>data table notebook</a>'\n",
              "          + ' to learn more about interactive tables.';\n",
              "        element.innerHTML = '';\n",
              "        dataTable['output_type'] = 'display_data';\n",
              "        await google.colab.output.renderOutput(dataTable, element);\n",
              "        const docLink = document.createElement('div');\n",
              "        docLink.innerHTML = docLinkHtml;\n",
              "        element.appendChild(docLink);\n",
              "      }\n",
              "    </script>\n",
              "  </div>\n",
              "\n",
              "\n",
              "    <div id=\"df-148d9568-ffd8-40df-9977-807bc9a2c943\">\n",
              "      <button class=\"colab-df-quickchart\" onclick=\"quickchart('df-148d9568-ffd8-40df-9977-807bc9a2c943')\"\n",
              "                title=\"Suggest charts\"\n",
              "                style=\"display:none;\">\n",
              "\n",
              "<svg xmlns=\"http://www.w3.org/2000/svg\" height=\"24px\"viewBox=\"0 0 24 24\"\n",
              "     width=\"24px\">\n",
              "    <g>\n",
              "        <path d=\"M19 3H5c-1.1 0-2 .9-2 2v14c0 1.1.9 2 2 2h14c1.1 0 2-.9 2-2V5c0-1.1-.9-2-2-2zM9 17H7v-7h2v7zm4 0h-2V7h2v10zm4 0h-2v-4h2v4z\"/>\n",
              "    </g>\n",
              "</svg>\n",
              "      </button>\n",
              "\n",
              "<style>\n",
              "  .colab-df-quickchart {\n",
              "      --bg-color: #E8F0FE;\n",
              "      --fill-color: #1967D2;\n",
              "      --hover-bg-color: #E2EBFA;\n",
              "      --hover-fill-color: #174EA6;\n",
              "      --disabled-fill-color: #AAA;\n",
              "      --disabled-bg-color: #DDD;\n",
              "  }\n",
              "\n",
              "  [theme=dark] .colab-df-quickchart {\n",
              "      --bg-color: #3B4455;\n",
              "      --fill-color: #D2E3FC;\n",
              "      --hover-bg-color: #434B5C;\n",
              "      --hover-fill-color: #FFFFFF;\n",
              "      --disabled-bg-color: #3B4455;\n",
              "      --disabled-fill-color: #666;\n",
              "  }\n",
              "\n",
              "  .colab-df-quickchart {\n",
              "    background-color: var(--bg-color);\n",
              "    border: none;\n",
              "    border-radius: 50%;\n",
              "    cursor: pointer;\n",
              "    display: none;\n",
              "    fill: var(--fill-color);\n",
              "    height: 32px;\n",
              "    padding: 0;\n",
              "    width: 32px;\n",
              "  }\n",
              "\n",
              "  .colab-df-quickchart:hover {\n",
              "    background-color: var(--hover-bg-color);\n",
              "    box-shadow: 0 1px 2px rgba(60, 64, 67, 0.3), 0 1px 3px 1px rgba(60, 64, 67, 0.15);\n",
              "    fill: var(--button-hover-fill-color);\n",
              "  }\n",
              "\n",
              "  .colab-df-quickchart-complete:disabled,\n",
              "  .colab-df-quickchart-complete:disabled:hover {\n",
              "    background-color: var(--disabled-bg-color);\n",
              "    fill: var(--disabled-fill-color);\n",
              "    box-shadow: none;\n",
              "  }\n",
              "\n",
              "  .colab-df-spinner {\n",
              "    border: 2px solid var(--fill-color);\n",
              "    border-color: transparent;\n",
              "    border-bottom-color: var(--fill-color);\n",
              "    animation:\n",
              "      spin 1s steps(1) infinite;\n",
              "  }\n",
              "\n",
              "  @keyframes spin {\n",
              "    0% {\n",
              "      border-color: transparent;\n",
              "      border-bottom-color: var(--fill-color);\n",
              "      border-left-color: var(--fill-color);\n",
              "    }\n",
              "    20% {\n",
              "      border-color: transparent;\n",
              "      border-left-color: var(--fill-color);\n",
              "      border-top-color: var(--fill-color);\n",
              "    }\n",
              "    30% {\n",
              "      border-color: transparent;\n",
              "      border-left-color: var(--fill-color);\n",
              "      border-top-color: var(--fill-color);\n",
              "      border-right-color: var(--fill-color);\n",
              "    }\n",
              "    40% {\n",
              "      border-color: transparent;\n",
              "      border-right-color: var(--fill-color);\n",
              "      border-top-color: var(--fill-color);\n",
              "    }\n",
              "    60% {\n",
              "      border-color: transparent;\n",
              "      border-right-color: var(--fill-color);\n",
              "    }\n",
              "    80% {\n",
              "      border-color: transparent;\n",
              "      border-right-color: var(--fill-color);\n",
              "      border-bottom-color: var(--fill-color);\n",
              "    }\n",
              "    90% {\n",
              "      border-color: transparent;\n",
              "      border-bottom-color: var(--fill-color);\n",
              "    }\n",
              "  }\n",
              "</style>\n",
              "\n",
              "      <script>\n",
              "        async function quickchart(key) {\n",
              "          const quickchartButtonEl =\n",
              "            document.querySelector('#' + key + ' button');\n",
              "          quickchartButtonEl.disabled = true;  // To prevent multiple clicks.\n",
              "          quickchartButtonEl.classList.add('colab-df-spinner');\n",
              "          try {\n",
              "            const charts = await google.colab.kernel.invokeFunction(\n",
              "                'suggestCharts', [key], {});\n",
              "          } catch (error) {\n",
              "            console.error('Error during call to suggestCharts:', error);\n",
              "          }\n",
              "          quickchartButtonEl.classList.remove('colab-df-spinner');\n",
              "          quickchartButtonEl.classList.add('colab-df-quickchart-complete');\n",
              "        }\n",
              "        (() => {\n",
              "          let quickchartButtonEl =\n",
              "            document.querySelector('#df-148d9568-ffd8-40df-9977-807bc9a2c943 button');\n",
              "          quickchartButtonEl.style.display =\n",
              "            google.colab.kernel.accessAllowed ? 'block' : 'none';\n",
              "        })();\n",
              "      </script>\n",
              "    </div>\n",
              "\n",
              "  <div id=\"id_2d2fc7a3-e374-4d6c-bda4-f667bcbc9304\">\n",
              "    <style>\n",
              "      .colab-df-generate {\n",
              "        background-color: #E8F0FE;\n",
              "        border: none;\n",
              "        border-radius: 50%;\n",
              "        cursor: pointer;\n",
              "        display: none;\n",
              "        fill: #1967D2;\n",
              "        height: 32px;\n",
              "        padding: 0 0 0 0;\n",
              "        width: 32px;\n",
              "      }\n",
              "\n",
              "      .colab-df-generate:hover {\n",
              "        background-color: #E2EBFA;\n",
              "        box-shadow: 0px 1px 2px rgba(60, 64, 67, 0.3), 0px 1px 3px 1px rgba(60, 64, 67, 0.15);\n",
              "        fill: #174EA6;\n",
              "      }\n",
              "\n",
              "      [theme=dark] .colab-df-generate {\n",
              "        background-color: #3B4455;\n",
              "        fill: #D2E3FC;\n",
              "      }\n",
              "\n",
              "      [theme=dark] .colab-df-generate:hover {\n",
              "        background-color: #434B5C;\n",
              "        box-shadow: 0px 1px 3px 1px rgba(0, 0, 0, 0.15);\n",
              "        filter: drop-shadow(0px 1px 2px rgba(0, 0, 0, 0.3));\n",
              "        fill: #FFFFFF;\n",
              "      }\n",
              "    </style>\n",
              "    <button class=\"colab-df-generate\" onclick=\"generateWithVariable('data')\"\n",
              "            title=\"Generate code using this dataframe.\"\n",
              "            style=\"display:none;\">\n",
              "\n",
              "  <svg xmlns=\"http://www.w3.org/2000/svg\" height=\"24px\"viewBox=\"0 0 24 24\"\n",
              "       width=\"24px\">\n",
              "    <path d=\"M7,19H8.4L18.45,9,17,7.55,7,17.6ZM5,21V16.75L18.45,3.32a2,2,0,0,1,2.83,0l1.4,1.43a1.91,1.91,0,0,1,.58,1.4,1.91,1.91,0,0,1-.58,1.4L9.25,21ZM18.45,9,17,7.55Zm-12,3A5.31,5.31,0,0,0,4.9,8.1,5.31,5.31,0,0,0,1,6.5,5.31,5.31,0,0,0,4.9,4.9,5.31,5.31,0,0,0,6.5,1,5.31,5.31,0,0,0,8.1,4.9,5.31,5.31,0,0,0,12,6.5,5.46,5.46,0,0,0,6.5,12Z\"/>\n",
              "  </svg>\n",
              "    </button>\n",
              "    <script>\n",
              "      (() => {\n",
              "      const buttonEl =\n",
              "        document.querySelector('#id_2d2fc7a3-e374-4d6c-bda4-f667bcbc9304 button.colab-df-generate');\n",
              "      buttonEl.style.display =\n",
              "        google.colab.kernel.accessAllowed ? 'block' : 'none';\n",
              "\n",
              "      buttonEl.onclick = () => {\n",
              "        google.colab.notebook.generateWithVariable('data');\n",
              "      }\n",
              "      })();\n",
              "    </script>\n",
              "  </div>\n",
              "\n",
              "    </div>\n",
              "  </div>\n"
            ],
            "application/vnd.google.colaboratory.intrinsic+json": {
              "type": "dataframe",
              "variable_name": "data"
            }
          },
          "metadata": {},
          "execution_count": 68
        }
      ]
    },
    {
      "cell_type": "code",
      "source": [
        "data=data.drop(0)"
      ],
      "metadata": {
        "id": "fQdjYOydsZoQ"
      },
      "execution_count": null,
      "outputs": []
    },
    {
      "cell_type": "code",
      "source": [
        "# checking info for finding any missing values\n",
        "data.info()"
      ],
      "metadata": {
        "colab": {
          "base_uri": "https://localhost:8080/"
        },
        "id": "G8mWDDe6sjPh",
        "outputId": "a87f5b13-f510-40d1-d755-16b5ce6f4bc4"
      },
      "execution_count": null,
      "outputs": [
        {
          "output_type": "stream",
          "name": "stdout",
          "text": [
            "<class 'pandas.core.frame.DataFrame'>\n",
            "RangeIndex: 176794 entries, 1 to 176794\n",
            "Data columns (total 14 columns):\n",
            " #   Column     Non-Null Count   Dtype \n",
            "---  ------     --------------   ----- \n",
            " 0   date       176794 non-null  object\n",
            " 1   admin1     176192 non-null  object\n",
            " 2   admin2     176192 non-null  object\n",
            " 3   market     176794 non-null  object\n",
            " 4   latitude   176192 non-null  object\n",
            " 5   longitude  176192 non-null  object\n",
            " 6   category   176794 non-null  object\n",
            " 7   commodity  176794 non-null  object\n",
            " 8   unit       176794 non-null  object\n",
            " 9   priceflag  176794 non-null  object\n",
            " 10  pricetype  176794 non-null  object\n",
            " 11  currency   176794 non-null  object\n",
            " 12  price      176794 non-null  object\n",
            " 13  usdprice   176794 non-null  object\n",
            "dtypes: object(14)\n",
            "memory usage: 18.9+ MB\n"
          ]
        }
      ]
    },
    {
      "cell_type": "code",
      "source": [
        "data.columns"
      ],
      "metadata": {
        "colab": {
          "base_uri": "https://localhost:8080/"
        },
        "id": "GtXZIiJEsvfS",
        "outputId": "cb36c1a2-1eb4-4d04-d8a2-df7feaedb32a"
      },
      "execution_count": null,
      "outputs": [
        {
          "output_type": "execute_result",
          "data": {
            "text/plain": [
              "Index(['date', 'admin1', 'admin2', 'market', 'latitude', 'longitude',\n",
              "       'category', 'commodity', 'unit', 'priceflag', 'pricetype', 'currency',\n",
              "       'price', 'usdprice'],\n",
              "      dtype='object')"
            ]
          },
          "metadata": {},
          "execution_count": 71
        }
      ]
    },
    {
      "cell_type": "markdown",
      "source": [
        "## Data Cleaning"
      ],
      "metadata": {
        "id": "yKvkz0PCs9IA"
      }
    },
    {
      "cell_type": "code",
      "source": [
        "null=data.isnull().sum() # to get the nan values\n",
        "print(null[null>0])"
      ],
      "metadata": {
        "colab": {
          "base_uri": "https://localhost:8080/"
        },
        "id": "MxVLvYB0s2E5",
        "outputId": "a0dc0745-8620-44f7-abff-16c59e8f072f"
      },
      "execution_count": null,
      "outputs": [
        {
          "output_type": "stream",
          "name": "stdout",
          "text": [
            "admin1       602\n",
            "admin2       602\n",
            "latitude     602\n",
            "longitude    602\n",
            "dtype: int64\n"
          ]
        }
      ]
    },
    {
      "cell_type": "code",
      "source": [
        "# filling the admin1 and admin2 with mode since they are qualitative\n",
        "\n",
        "mode_admin1=data['admin1'].mode()[0]\n",
        "data['admin1']=data['admin1'].fillna(mode_admin1)\n",
        "\n",
        "mode_admin2=data['admin2'].mode()[0]\n",
        "data['admin2']=data['admin2'].fillna(mode_admin2)"
      ],
      "metadata": {
        "id": "qHv2OUhKt-Iu"
      },
      "execution_count": null,
      "outputs": []
    },
    {
      "cell_type": "code",
      "source": [
        "# filling latitude\n",
        "data['latitude']=data['latitude'].astype(float)\n",
        "mode_latitude=data['latitude'].mode()[0]\n",
        "data['latitude']=data['latitude'].fillna(mode_latitude)\n",
        "\n",
        "#filling longitude\n",
        "data['longitude']=data['longitude'].astype(float)\n",
        "mode_longitude=data['longitude'].mode()[0]\n",
        "data['longitude']=data['longitude'].fillna(mode_longitude)\n",
        "\n",
        "data.info()"
      ],
      "metadata": {
        "colab": {
          "base_uri": "https://localhost:8080/"
        },
        "id": "MIH9JD1CugyA",
        "outputId": "1cc53dd2-2dd8-4c15-ab03-251743634097"
      },
      "execution_count": null,
      "outputs": [
        {
          "output_type": "stream",
          "name": "stdout",
          "text": [
            "<class 'pandas.core.frame.DataFrame'>\n",
            "RangeIndex: 176794 entries, 1 to 176794\n",
            "Data columns (total 14 columns):\n",
            " #   Column     Non-Null Count   Dtype  \n",
            "---  ------     --------------   -----  \n",
            " 0   date       176794 non-null  object \n",
            " 1   admin1     176794 non-null  object \n",
            " 2   admin2     176794 non-null  object \n",
            " 3   market     176794 non-null  object \n",
            " 4   latitude   176794 non-null  float64\n",
            " 5   longitude  176794 non-null  float64\n",
            " 6   category   176794 non-null  object \n",
            " 7   commodity  176794 non-null  object \n",
            " 8   unit       176794 non-null  object \n",
            " 9   priceflag  176794 non-null  object \n",
            " 10  pricetype  176794 non-null  object \n",
            " 11  currency   176794 non-null  object \n",
            " 12  price      176794 non-null  object \n",
            " 13  usdprice   176794 non-null  object \n",
            "dtypes: float64(2), object(12)\n",
            "memory usage: 18.9+ MB\n"
          ]
        }
      ]
    },
    {
      "cell_type": "markdown",
      "source": [
        "## Descriptive Statistics"
      ],
      "metadata": {
        "id": "F3E1TOcKyz9T"
      }
    },
    {
      "cell_type": "code",
      "source": [
        "data.describe() # why only latitude and longitude"
      ],
      "metadata": {
        "id": "xLvw78pbwuL5",
        "colab": {
          "base_uri": "https://localhost:8080/",
          "height": 300
        },
        "outputId": "1e1270bc-af59-4a81-cd0c-96fa012fe24f"
      },
      "execution_count": null,
      "outputs": [
        {
          "output_type": "execute_result",
          "data": {
            "text/plain": [
              "            latitude      longitude\n",
              "count  176794.000000  176794.000000\n",
              "mean       22.404669      80.259093\n",
              "std         6.201493       5.649344\n",
              "min         8.506944      69.666690\n",
              "25%        18.866667      76.283333\n",
              "50%        23.350000      78.157870\n",
              "75%        26.716111      85.000000\n",
              "max        32.553589      94.116667"
            ],
            "text/html": [
              "\n",
              "  <div id=\"df-42107a49-0276-427c-8662-fc9c82555777\" class=\"colab-df-container\">\n",
              "    <div>\n",
              "<style scoped>\n",
              "    .dataframe tbody tr th:only-of-type {\n",
              "        vertical-align: middle;\n",
              "    }\n",
              "\n",
              "    .dataframe tbody tr th {\n",
              "        vertical-align: top;\n",
              "    }\n",
              "\n",
              "    .dataframe thead th {\n",
              "        text-align: right;\n",
              "    }\n",
              "</style>\n",
              "<table border=\"1\" class=\"dataframe\">\n",
              "  <thead>\n",
              "    <tr style=\"text-align: right;\">\n",
              "      <th></th>\n",
              "      <th>latitude</th>\n",
              "      <th>longitude</th>\n",
              "    </tr>\n",
              "  </thead>\n",
              "  <tbody>\n",
              "    <tr>\n",
              "      <th>count</th>\n",
              "      <td>176794.000000</td>\n",
              "      <td>176794.000000</td>\n",
              "    </tr>\n",
              "    <tr>\n",
              "      <th>mean</th>\n",
              "      <td>22.404669</td>\n",
              "      <td>80.259093</td>\n",
              "    </tr>\n",
              "    <tr>\n",
              "      <th>std</th>\n",
              "      <td>6.201493</td>\n",
              "      <td>5.649344</td>\n",
              "    </tr>\n",
              "    <tr>\n",
              "      <th>min</th>\n",
              "      <td>8.506944</td>\n",
              "      <td>69.666690</td>\n",
              "    </tr>\n",
              "    <tr>\n",
              "      <th>25%</th>\n",
              "      <td>18.866667</td>\n",
              "      <td>76.283333</td>\n",
              "    </tr>\n",
              "    <tr>\n",
              "      <th>50%</th>\n",
              "      <td>23.350000</td>\n",
              "      <td>78.157870</td>\n",
              "    </tr>\n",
              "    <tr>\n",
              "      <th>75%</th>\n",
              "      <td>26.716111</td>\n",
              "      <td>85.000000</td>\n",
              "    </tr>\n",
              "    <tr>\n",
              "      <th>max</th>\n",
              "      <td>32.553589</td>\n",
              "      <td>94.116667</td>\n",
              "    </tr>\n",
              "  </tbody>\n",
              "</table>\n",
              "</div>\n",
              "    <div class=\"colab-df-buttons\">\n",
              "\n",
              "  <div class=\"colab-df-container\">\n",
              "    <button class=\"colab-df-convert\" onclick=\"convertToInteractive('df-42107a49-0276-427c-8662-fc9c82555777')\"\n",
              "            title=\"Convert this dataframe to an interactive table.\"\n",
              "            style=\"display:none;\">\n",
              "\n",
              "  <svg xmlns=\"http://www.w3.org/2000/svg\" height=\"24px\" viewBox=\"0 -960 960 960\">\n",
              "    <path d=\"M120-120v-720h720v720H120Zm60-500h600v-160H180v160Zm220 220h160v-160H400v160Zm0 220h160v-160H400v160ZM180-400h160v-160H180v160Zm440 0h160v-160H620v160ZM180-180h160v-160H180v160Zm440 0h160v-160H620v160Z\"/>\n",
              "  </svg>\n",
              "    </button>\n",
              "\n",
              "  <style>\n",
              "    .colab-df-container {\n",
              "      display:flex;\n",
              "      gap: 12px;\n",
              "    }\n",
              "\n",
              "    .colab-df-convert {\n",
              "      background-color: #E8F0FE;\n",
              "      border: none;\n",
              "      border-radius: 50%;\n",
              "      cursor: pointer;\n",
              "      display: none;\n",
              "      fill: #1967D2;\n",
              "      height: 32px;\n",
              "      padding: 0 0 0 0;\n",
              "      width: 32px;\n",
              "    }\n",
              "\n",
              "    .colab-df-convert:hover {\n",
              "      background-color: #E2EBFA;\n",
              "      box-shadow: 0px 1px 2px rgba(60, 64, 67, 0.3), 0px 1px 3px 1px rgba(60, 64, 67, 0.15);\n",
              "      fill: #174EA6;\n",
              "    }\n",
              "\n",
              "    .colab-df-buttons div {\n",
              "      margin-bottom: 4px;\n",
              "    }\n",
              "\n",
              "    [theme=dark] .colab-df-convert {\n",
              "      background-color: #3B4455;\n",
              "      fill: #D2E3FC;\n",
              "    }\n",
              "\n",
              "    [theme=dark] .colab-df-convert:hover {\n",
              "      background-color: #434B5C;\n",
              "      box-shadow: 0px 1px 3px 1px rgba(0, 0, 0, 0.15);\n",
              "      filter: drop-shadow(0px 1px 2px rgba(0, 0, 0, 0.3));\n",
              "      fill: #FFFFFF;\n",
              "    }\n",
              "  </style>\n",
              "\n",
              "    <script>\n",
              "      const buttonEl =\n",
              "        document.querySelector('#df-42107a49-0276-427c-8662-fc9c82555777 button.colab-df-convert');\n",
              "      buttonEl.style.display =\n",
              "        google.colab.kernel.accessAllowed ? 'block' : 'none';\n",
              "\n",
              "      async function convertToInteractive(key) {\n",
              "        const element = document.querySelector('#df-42107a49-0276-427c-8662-fc9c82555777');\n",
              "        const dataTable =\n",
              "          await google.colab.kernel.invokeFunction('convertToInteractive',\n",
              "                                                    [key], {});\n",
              "        if (!dataTable) return;\n",
              "\n",
              "        const docLinkHtml = 'Like what you see? Visit the ' +\n",
              "          '<a target=\"_blank\" href=https://colab.research.google.com/notebooks/data_table.ipynb>data table notebook</a>'\n",
              "          + ' to learn more about interactive tables.';\n",
              "        element.innerHTML = '';\n",
              "        dataTable['output_type'] = 'display_data';\n",
              "        await google.colab.output.renderOutput(dataTable, element);\n",
              "        const docLink = document.createElement('div');\n",
              "        docLink.innerHTML = docLinkHtml;\n",
              "        element.appendChild(docLink);\n",
              "      }\n",
              "    </script>\n",
              "  </div>\n",
              "\n",
              "\n",
              "    <div id=\"df-75b34dc6-7ba3-4081-b7b4-bab2066ff8bd\">\n",
              "      <button class=\"colab-df-quickchart\" onclick=\"quickchart('df-75b34dc6-7ba3-4081-b7b4-bab2066ff8bd')\"\n",
              "                title=\"Suggest charts\"\n",
              "                style=\"display:none;\">\n",
              "\n",
              "<svg xmlns=\"http://www.w3.org/2000/svg\" height=\"24px\"viewBox=\"0 0 24 24\"\n",
              "     width=\"24px\">\n",
              "    <g>\n",
              "        <path d=\"M19 3H5c-1.1 0-2 .9-2 2v14c0 1.1.9 2 2 2h14c1.1 0 2-.9 2-2V5c0-1.1-.9-2-2-2zM9 17H7v-7h2v7zm4 0h-2V7h2v10zm4 0h-2v-4h2v4z\"/>\n",
              "    </g>\n",
              "</svg>\n",
              "      </button>\n",
              "\n",
              "<style>\n",
              "  .colab-df-quickchart {\n",
              "      --bg-color: #E8F0FE;\n",
              "      --fill-color: #1967D2;\n",
              "      --hover-bg-color: #E2EBFA;\n",
              "      --hover-fill-color: #174EA6;\n",
              "      --disabled-fill-color: #AAA;\n",
              "      --disabled-bg-color: #DDD;\n",
              "  }\n",
              "\n",
              "  [theme=dark] .colab-df-quickchart {\n",
              "      --bg-color: #3B4455;\n",
              "      --fill-color: #D2E3FC;\n",
              "      --hover-bg-color: #434B5C;\n",
              "      --hover-fill-color: #FFFFFF;\n",
              "      --disabled-bg-color: #3B4455;\n",
              "      --disabled-fill-color: #666;\n",
              "  }\n",
              "\n",
              "  .colab-df-quickchart {\n",
              "    background-color: var(--bg-color);\n",
              "    border: none;\n",
              "    border-radius: 50%;\n",
              "    cursor: pointer;\n",
              "    display: none;\n",
              "    fill: var(--fill-color);\n",
              "    height: 32px;\n",
              "    padding: 0;\n",
              "    width: 32px;\n",
              "  }\n",
              "\n",
              "  .colab-df-quickchart:hover {\n",
              "    background-color: var(--hover-bg-color);\n",
              "    box-shadow: 0 1px 2px rgba(60, 64, 67, 0.3), 0 1px 3px 1px rgba(60, 64, 67, 0.15);\n",
              "    fill: var(--button-hover-fill-color);\n",
              "  }\n",
              "\n",
              "  .colab-df-quickchart-complete:disabled,\n",
              "  .colab-df-quickchart-complete:disabled:hover {\n",
              "    background-color: var(--disabled-bg-color);\n",
              "    fill: var(--disabled-fill-color);\n",
              "    box-shadow: none;\n",
              "  }\n",
              "\n",
              "  .colab-df-spinner {\n",
              "    border: 2px solid var(--fill-color);\n",
              "    border-color: transparent;\n",
              "    border-bottom-color: var(--fill-color);\n",
              "    animation:\n",
              "      spin 1s steps(1) infinite;\n",
              "  }\n",
              "\n",
              "  @keyframes spin {\n",
              "    0% {\n",
              "      border-color: transparent;\n",
              "      border-bottom-color: var(--fill-color);\n",
              "      border-left-color: var(--fill-color);\n",
              "    }\n",
              "    20% {\n",
              "      border-color: transparent;\n",
              "      border-left-color: var(--fill-color);\n",
              "      border-top-color: var(--fill-color);\n",
              "    }\n",
              "    30% {\n",
              "      border-color: transparent;\n",
              "      border-left-color: var(--fill-color);\n",
              "      border-top-color: var(--fill-color);\n",
              "      border-right-color: var(--fill-color);\n",
              "    }\n",
              "    40% {\n",
              "      border-color: transparent;\n",
              "      border-right-color: var(--fill-color);\n",
              "      border-top-color: var(--fill-color);\n",
              "    }\n",
              "    60% {\n",
              "      border-color: transparent;\n",
              "      border-right-color: var(--fill-color);\n",
              "    }\n",
              "    80% {\n",
              "      border-color: transparent;\n",
              "      border-right-color: var(--fill-color);\n",
              "      border-bottom-color: var(--fill-color);\n",
              "    }\n",
              "    90% {\n",
              "      border-color: transparent;\n",
              "      border-bottom-color: var(--fill-color);\n",
              "    }\n",
              "  }\n",
              "</style>\n",
              "\n",
              "      <script>\n",
              "        async function quickchart(key) {\n",
              "          const quickchartButtonEl =\n",
              "            document.querySelector('#' + key + ' button');\n",
              "          quickchartButtonEl.disabled = true;  // To prevent multiple clicks.\n",
              "          quickchartButtonEl.classList.add('colab-df-spinner');\n",
              "          try {\n",
              "            const charts = await google.colab.kernel.invokeFunction(\n",
              "                'suggestCharts', [key], {});\n",
              "          } catch (error) {\n",
              "            console.error('Error during call to suggestCharts:', error);\n",
              "          }\n",
              "          quickchartButtonEl.classList.remove('colab-df-spinner');\n",
              "          quickchartButtonEl.classList.add('colab-df-quickchart-complete');\n",
              "        }\n",
              "        (() => {\n",
              "          let quickchartButtonEl =\n",
              "            document.querySelector('#df-75b34dc6-7ba3-4081-b7b4-bab2066ff8bd button');\n",
              "          quickchartButtonEl.style.display =\n",
              "            google.colab.kernel.accessAllowed ? 'block' : 'none';\n",
              "        })();\n",
              "      </script>\n",
              "    </div>\n",
              "\n",
              "    </div>\n",
              "  </div>\n"
            ],
            "application/vnd.google.colaboratory.intrinsic+json": {
              "type": "dataframe",
              "summary": "{\n  \"name\": \"data\",\n  \"rows\": 8,\n  \"fields\": [\n    {\n      \"column\": \"latitude\",\n      \"properties\": {\n        \"dtype\": \"number\",\n        \"std\": 62499.118426816145,\n        \"min\": 6.201493461825032,\n        \"max\": 176794.0,\n        \"num_unique_values\": 8,\n        \"samples\": [\n          22.404668598778866,\n          23.35,\n          176794.0\n        ],\n        \"semantic_type\": \"\",\n        \"description\": \"\"\n      }\n    },\n    {\n      \"column\": \"longitude\",\n      \"properties\": {\n        \"dtype\": \"number\",\n        \"std\": 62481.4190871562,\n        \"min\": 5.649343620755875,\n        \"max\": 176794.0,\n        \"num_unique_values\": 8,\n        \"samples\": [\n          80.2590925520014,\n          78.15787,\n          176794.0\n        ],\n        \"semantic_type\": \"\",\n        \"description\": \"\"\n      }\n    }\n  ]\n}"
            }
          },
          "metadata": {},
          "execution_count": 75
        }
      ]
    },
    {
      "cell_type": "markdown",
      "source": [
        "## Feature Engineering"
      ],
      "metadata": {
        "id": "085N3OPf1l_O"
      }
    },
    {
      "cell_type": "code",
      "source": [
        "data['date']=pd.to_datetime(data['date'])\n",
        "\n",
        "data['Year']=data['date'].dt.year\n",
        "\n",
        "data['Month']=data['date'].dt.month\n",
        "\n",
        "data['DayOfWeek']=data['date'].dt.dayofweek\n",
        "\n",
        "data.drop('date',axis=1,inplace=True)"
      ],
      "metadata": {
        "id": "1Z9_JQzn1kj1"
      },
      "execution_count": null,
      "outputs": []
    },
    {
      "cell_type": "markdown",
      "source": [
        "## Correlation Analysis"
      ],
      "metadata": {
        "id": "VsVwBhs33EMP"
      }
    },
    {
      "cell_type": "code",
      "source": [
        "from sklearn.preprocessing import LabelEncoder\n",
        "\n",
        "le=LabelEncoder()\n",
        "\n",
        "data['admin1']=le.fit_transform(data['admin1'])\n",
        "data['admin2']=le.fit_transform(data['admin2'])\n",
        "data['market']=le.fit_transform(data['market'])\n",
        "data['commodity']=le.fit_transform(data['commodity'])\n",
        "data['pricetype']=le.fit_transform(data['pricetype'])"
      ],
      "metadata": {
        "id": "-X_6gjEO29kR"
      },
      "execution_count": null,
      "outputs": []
    },
    {
      "cell_type": "code",
      "source": [
        "data['category'].value_counts()"
      ],
      "metadata": {
        "colab": {
          "base_uri": "https://localhost:8080/",
          "height": 303
        },
        "id": "vHlqOmCT3-pD",
        "outputId": "0cbbbd0b-7c8b-4c25-c174-bf7919b174dd"
      },
      "execution_count": null,
      "outputs": [
        {
          "output_type": "execute_result",
          "data": {
            "text/plain": [
              "category\n",
              "oil and fats             44231\n",
              "cereals and tubers       39810\n",
              "miscellaneous food       34711\n",
              "pulses and nuts          31507\n",
              "vegetables and fruits    17166\n",
              "milk and dairy            9369\n",
              "Name: count, dtype: int64"
            ],
            "text/html": [
              "<div>\n",
              "<style scoped>\n",
              "    .dataframe tbody tr th:only-of-type {\n",
              "        vertical-align: middle;\n",
              "    }\n",
              "\n",
              "    .dataframe tbody tr th {\n",
              "        vertical-align: top;\n",
              "    }\n",
              "\n",
              "    .dataframe thead th {\n",
              "        text-align: right;\n",
              "    }\n",
              "</style>\n",
              "<table border=\"1\" class=\"dataframe\">\n",
              "  <thead>\n",
              "    <tr style=\"text-align: right;\">\n",
              "      <th></th>\n",
              "      <th>count</th>\n",
              "    </tr>\n",
              "    <tr>\n",
              "      <th>category</th>\n",
              "      <th></th>\n",
              "    </tr>\n",
              "  </thead>\n",
              "  <tbody>\n",
              "    <tr>\n",
              "      <th>oil and fats</th>\n",
              "      <td>44231</td>\n",
              "    </tr>\n",
              "    <tr>\n",
              "      <th>cereals and tubers</th>\n",
              "      <td>39810</td>\n",
              "    </tr>\n",
              "    <tr>\n",
              "      <th>miscellaneous food</th>\n",
              "      <td>34711</td>\n",
              "    </tr>\n",
              "    <tr>\n",
              "      <th>pulses and nuts</th>\n",
              "      <td>31507</td>\n",
              "    </tr>\n",
              "    <tr>\n",
              "      <th>vegetables and fruits</th>\n",
              "      <td>17166</td>\n",
              "    </tr>\n",
              "    <tr>\n",
              "      <th>milk and dairy</th>\n",
              "      <td>9369</td>\n",
              "    </tr>\n",
              "  </tbody>\n",
              "</table>\n",
              "</div><br><label><b>dtype:</b> int64</label>"
            ]
          },
          "metadata": {},
          "execution_count": 78
        }
      ]
    },
    {
      "cell_type": "code",
      "source": [
        "# dropping unwanted features\n",
        "\n",
        "data.drop('priceflag',axis=1,inplace=True)\n",
        "data.drop('currency',axis=1,inplace=True)\n",
        "data.drop('usdprice',axis=1,inplace=True)\n",
        "\n",
        "# replacing\n",
        "\n",
        "data[\"unit\"].replace([\"KG\",\"L\",\"100 KG\"],[1,2,3],inplace=True)\n",
        "data[\"category\"].replace([\"oil and fats\",\"cereals and tubers\",\"miscellaneous food\",\"pulses and nuts\",\"vegetables and fruits\",\"milk and dairy\"],[1,2,3,4,5,6],inplace=True)"
      ],
      "metadata": {
        "colab": {
          "base_uri": "https://localhost:8080/"
        },
        "id": "OQDbTxKa4CmS",
        "outputId": "ae065d4f-f15c-4544-8530-3ac6691e622c"
      },
      "execution_count": null,
      "outputs": [
        {
          "output_type": "stream",
          "name": "stderr",
          "text": [
            "<ipython-input-79-ba16074f61d5>:9: FutureWarning: A value is trying to be set on a copy of a DataFrame or Series through chained assignment using an inplace method.\n",
            "The behavior will change in pandas 3.0. This inplace method will never work because the intermediate object on which we are setting values always behaves as a copy.\n",
            "\n",
            "For example, when doing 'df[col].method(value, inplace=True)', try using 'df.method({col: value}, inplace=True)' or df[col] = df[col].method(value) instead, to perform the operation inplace on the original object.\n",
            "\n",
            "\n",
            "  data[\"unit\"].replace([\"KG\",\"L\",\"100 KG\"],[1,2,3],inplace=True)\n",
            "<ipython-input-79-ba16074f61d5>:9: FutureWarning: Downcasting behavior in `replace` is deprecated and will be removed in a future version. To retain the old behavior, explicitly call `result.infer_objects(copy=False)`. To opt-in to the future behavior, set `pd.set_option('future.no_silent_downcasting', True)`\n",
            "  data[\"unit\"].replace([\"KG\",\"L\",\"100 KG\"],[1,2,3],inplace=True)\n",
            "<ipython-input-79-ba16074f61d5>:10: FutureWarning: A value is trying to be set on a copy of a DataFrame or Series through chained assignment using an inplace method.\n",
            "The behavior will change in pandas 3.0. This inplace method will never work because the intermediate object on which we are setting values always behaves as a copy.\n",
            "\n",
            "For example, when doing 'df[col].method(value, inplace=True)', try using 'df.method({col: value}, inplace=True)' or df[col] = df[col].method(value) instead, to perform the operation inplace on the original object.\n",
            "\n",
            "\n",
            "  data[\"category\"].replace([\"oil and fats\",\"cereals and tubers\",\"miscellaneous food\",\"pulses and nuts\",\"vegetables and fruits\",\"milk and dairy\"],[1,2,3,4,5,6],inplace=True)\n",
            "<ipython-input-79-ba16074f61d5>:10: FutureWarning: Downcasting behavior in `replace` is deprecated and will be removed in a future version. To retain the old behavior, explicitly call `result.infer_objects(copy=False)`. To opt-in to the future behavior, set `pd.set_option('future.no_silent_downcasting', True)`\n",
            "  data[\"category\"].replace([\"oil and fats\",\"cereals and tubers\",\"miscellaneous food\",\"pulses and nuts\",\"vegetables and fruits\",\"milk and dairy\"],[1,2,3,4,5,6],inplace=True)\n"
          ]
        }
      ]
    },
    {
      "cell_type": "code",
      "source": [
        "data['price']=data['price'].astype(float)"
      ],
      "metadata": {
        "id": "S-EeIdXK45jx"
      },
      "execution_count": null,
      "outputs": []
    },
    {
      "cell_type": "code",
      "source": [
        "# correlation matrix\n",
        "\n",
        "cor=data.corr()\n",
        "\n",
        "sns.heatmap(cor,annot=True,fmt='0.01f',cmap='coolwarm')\n",
        "plt.title('corelation matrix')"
      ],
      "metadata": {
        "colab": {
          "base_uri": "https://localhost:8080/",
          "height": 537
        },
        "id": "U1KEBWN45YG2",
        "outputId": "8e6b771b-d025-4112-e91e-ce4ff345dd39"
      },
      "execution_count": null,
      "outputs": [
        {
          "output_type": "execute_result",
          "data": {
            "text/plain": [
              "Text(0.5, 1.0, 'corelation matrix')"
            ]
          },
          "metadata": {},
          "execution_count": 81
        },
        {
          "output_type": "display_data",
          "data": {
            "text/plain": [
              "<Figure size 640x480 with 2 Axes>"
            ],
            "image/png": "[encoded data removed]"
          },
          "metadata": {}
        }
      ]
    },
    {
      "cell_type": "code",
      "source": [
        "# corelation between price and other columns\n",
        "\n",
        "price_cor=data.corr()['price'].drop('price')\n",
        "\n",
        "sns.heatmap(price_cor.to_frame(),annot=True,fmt='.2f',cmap='coolwarm')"
      ],
      "metadata": {
        "colab": {
          "base_uri": "https://localhost:8080/",
          "height": 447
        },
        "id": "N5_1QzRq5543",
        "outputId": "8100e080-2949-4ade-94b2-baea62860939"
      },
      "execution_count": null,
      "outputs": [
        {
          "output_type": "execute_result",
          "data": {
            "text/plain": [
              "<Axes: >"
            ]
          },
          "metadata": {},
          "execution_count": 82
        },
        {
          "output_type": "display_data",
          "data": {
            "text/plain": [
              "<Figure size 640x480 with 2 Axes>"
            ],
            "image/png": "[encoded data removed]"
          },
          "metadata": {}
        }
      ]
    },
    {
      "cell_type": "code",
      "source": [
        "# droping month  and admin2\n",
        "\n",
        "data.drop('Month',axis=1,inplace=True)\n",
        "data.drop('admin2',axis=1,inplace=True)"
      ],
      "metadata": {
        "id": "htiUk0pp6lLF"
      },
      "execution_count": null,
      "outputs": []
    },
    {
      "cell_type": "markdown",
      "source": [
        "## Outlier Detection"
      ],
      "metadata": {
        "id": "WyKm6hID8WIM"
      }
    },
    {
      "cell_type": "code",
      "source": [
        "data.boxplot()"
      ],
      "metadata": {
        "colab": {
          "base_uri": "https://localhost:8080/",
          "height": 447
        },
        "id": "vlZE6AQq6vZ1",
        "outputId": "7494296e-9e40-461e-b1fa-777cbf03da87"
      },
      "execution_count": null,
      "outputs": [
        {
          "output_type": "execute_result",
          "data": {
            "text/plain": [
              "<Axes: >"
            ]
          },
          "metadata": {},
          "execution_count": 84
        },
        {
          "output_type": "display_data",
          "data": {
            "text/plain": [
              "<Figure size 640x480 with 1 Axes>"
            ],
            "image/png": "[encoded data removed]"
          },
          "metadata": {}
        }
      ]
    },
    {
      "cell_type": "code",
      "source": [
        "#  admin1\n",
        "sns.boxplot(x=data['admin1'])\n",
        "plt.title('Box Plot')\n",
        "plt.show()\n",
        "\n",
        "from scipy import stats\n",
        "import numpy as np\n",
        "\n",
        "z_scores=np.abs(stats.zscore(data['admin1']))\n",
        "outliers=data[z_scores>3]\n",
        "print(f'Number of outliers in admin1:{outliers.shape[0]}')"
      ],
      "metadata": {
        "colab": {
          "base_uri": "https://localhost:8080/",
          "height": 489
        },
        "id": "VF3AePG18G-7",
        "outputId": "73f70e87-267b-4ea8-9d11-afe455c9cf7e"
      },
      "execution_count": null,
      "outputs": [
        {
          "output_type": "display_data",
          "data": {
            "text/plain": [
              "<Figure size 640x480 with 1 Axes>"
            ],
            "image/png": "[encoded data removed]"
          },
          "metadata": {}
        },
        {
          "output_type": "stream",
          "name": "stdout",
          "text": [
            "Number of outliers in admin1:0\n"
          ]
        }
      ]
    },
    {
      "cell_type": "code",
      "source": [
        "#  market\n",
        "\n",
        "sns.boxplot(x=data['market'])\n",
        "plt.title('Market box plot')\n",
        "plt.show()\n",
        "\n",
        "zscores=np.abs(stats.zscore(data['market']))\n",
        "outliers=data[zscores>3]\n",
        "print(f\"Number of outliers:{outliers.shape[0]}\")"
      ],
      "metadata": {
        "colab": {
          "base_uri": "https://localhost:8080/",
          "height": 489
        },
        "id": "lhve94J29zrp",
        "outputId": "9f858f3a-2013-4dd0-d48b-33eeb5398d61"
      },
      "execution_count": null,
      "outputs": [
        {
          "output_type": "display_data",
          "data": {
            "text/plain": [
              "<Figure size 640x480 with 1 Axes>"
            ],
            "image/png": "[encoded data removed]"
          },
          "metadata": {}
        },
        {
          "output_type": "stream",
          "name": "stdout",
          "text": [
            "Number of outliers:0\n"
          ]
        }
      ]
    },
    {
      "cell_type": "code",
      "source": [
        "# latitude\n",
        "\n",
        "sns.boxplot(x=data['latitude'])\n",
        "plt.title('box plot of latitude')\n",
        "plt.show()\n",
        "\n",
        "z_scores=np.abs(stats.zscore(data['latitude']))\n",
        "outliers=data[z_scores>3]\n",
        "print(f'Number of outliers in latitude: {outliers.shape[0]}')"
      ],
      "metadata": {
        "colab": {
          "base_uri": "https://localhost:8080/",
          "height": 489
        },
        "id": "LTIStlMf-onT",
        "outputId": "d532fb23-324f-4ac9-bd29-258062788133"
      },
      "execution_count": null,
      "outputs": [
        {
          "output_type": "display_data",
          "data": {
            "text/plain": [
              "<Figure size 640x480 with 1 Axes>"
            ],
            "image/png": "[encoded data removed]"
          },
          "metadata": {}
        },
        {
          "output_type": "stream",
          "name": "stdout",
          "text": [
            "Number of outliers in latitude: 0\n"
          ]
        }
      ]
    },
    {
      "cell_type": "code",
      "source": [
        "# category\n",
        "sns.boxplot(x=data['category'])\n",
        "plt.title('box plot')\n",
        "plt.show()\n",
        "\n",
        "z_scores=np.abs(stats.zscore(data['category']))\n",
        "outliers=data[z_scores > 3]\n",
        "print(f'Number of outliers in category:{outliers.shape[0]}')"
      ],
      "metadata": {
        "colab": {
          "base_uri": "https://localhost:8080/",
          "height": 489
        },
        "id": "dCHYFy2D_F2_",
        "outputId": "b673a780-c57a-4ebd-d85a-80d0ea4851d8"
      },
      "execution_count": null,
      "outputs": [
        {
          "output_type": "display_data",
          "data": {
            "text/plain": [
              "<Figure size 640x480 with 1 Axes>"
            ],
            "image/png": "[encoded data removed]"
          },
          "metadata": {}
        },
        {
          "output_type": "stream",
          "name": "stdout",
          "text": [
            "Number of outliers in category:0\n"
          ]
        }
      ]
    },
    {
      "cell_type": "code",
      "source": [
        "# Visual detection of outliers using a box plot\n",
        "sns.boxplot(x=data['commodity'])\n",
        "plt.title('Box Plot')\n",
        "plt.show()\n",
        "\n",
        "# Z-score to detect outliers\n",
        "from scipy import stats\n",
        "import numpy as np\n",
        "\n",
        "z_scores = np.abs(stats.zscore(data['commodity']))\n",
        "outliers = data[z_scores > 3]\n",
        "print(f'Number of outliers in commodity: {outliers.shape[0]}')"
      ],
      "metadata": {
        "colab": {
          "base_uri": "https://localhost:8080/",
          "height": 489
        },
        "id": "P_uIQ642_zXv",
        "outputId": "cf8367be-40dd-47cc-9f53-f9a1ce1a45bf"
      },
      "execution_count": null,
      "outputs": [
        {
          "output_type": "display_data",
          "data": {
            "text/plain": [
              "<Figure size 640x480 with 1 Axes>"
            ],
            "image/png": "[encoded data removed]"
          },
          "metadata": {}
        },
        {
          "output_type": "stream",
          "name": "stdout",
          "text": [
            "Number of outliers in commodity: 0\n"
          ]
        }
      ]
    },
    {
      "cell_type": "code",
      "source": [
        "# unit\n",
        "sns.boxplot(x=data['unit'])\n",
        "plt.title('box plot')\n",
        "plt.show()\n",
        "\n",
        "z_scores=np.abs(stats.zscore(data['unit']))\n",
        "ouliers=data[z_scores >3]\n",
        "print(f'number of outliers:{outliers.shape[0]}')"
      ],
      "metadata": {
        "colab": {
          "base_uri": "https://localhost:8080/",
          "height": 489
        },
        "id": "IzQ5f0HcABQ4",
        "outputId": "2c5cde84-f2cd-4cab-cf2b-e372e4fd9187"
      },
      "execution_count": null,
      "outputs": [
        {
          "output_type": "display_data",
          "data": {
            "text/plain": [
              "<Figure size 640x480 with 1 Axes>"
            ],
            "image/png": "[encoded data removed]"
          },
          "metadata": {}
        },
        {
          "output_type": "stream",
          "name": "stdout",
          "text": [
            "number of outliers:0\n"
          ]
        }
      ]
    },
    {
      "cell_type": "code",
      "source": [
        "# Visual detection of outliers using a box plot\n",
        "sns.boxplot(x=data['commodity'])\n",
        "plt.title('Box Plot')\n",
        "plt.show()\n",
        "\n",
        "# Z-score to detect outliers\n",
        "from scipy import stats\n",
        "import numpy as np\n",
        "\n",
        "z_scores = np.abs(stats.zscore(data['commodity']))\n",
        "outliers = data[z_scores > 3]\n",
        "print(f'Number of outliers in commodity: {outliers.shape[0]}')"
      ],
      "metadata": {
        "colab": {
          "base_uri": "https://localhost:8080/",
          "height": 489
        },
        "id": "d04zjUv0Ac2r",
        "outputId": "80076dab-e508-46bc-b0e1-cfbb5e9bee63"
      },
      "execution_count": null,
      "outputs": [
        {
          "output_type": "display_data",
          "data": {
            "text/plain": [
              "<Figure size 640x480 with 1 Axes>"
            ],
            "image/png": "[encoded data removed]"
          },
          "metadata": {}
        },
        {
          "output_type": "stream",
          "name": "stdout",
          "text": [
            "Number of outliers in commodity: 0\n"
          ]
        }
      ]
    },
    {
      "cell_type": "markdown",
      "source": [
        "## checking and removing outliers"
      ],
      "metadata": {
        "id": "ssfPj41SAtNk"
      }
    },
    {
      "cell_type": "code",
      "source": [
        "data.boxplot()"
      ],
      "metadata": {
        "colab": {
          "base_uri": "https://localhost:8080/",
          "height": 447
        },
        "id": "9UCcKUgoAcwp",
        "outputId": "b124a482-e159-400a-b97e-fa5c40428b08"
      },
      "execution_count": null,
      "outputs": [
        {
          "output_type": "execute_result",
          "data": {
            "text/plain": [
              "<Axes: >"
            ]
          },
          "metadata": {},
          "execution_count": 92
        },
        {
          "output_type": "display_data",
          "data": {
            "text/plain": [
              "<Figure size 640x480 with 1 Axes>"
            ],
            "image/png": "[encoded data removed]"
          },
          "metadata": {}
        }
      ]
    },
    {
      "cell_type": "code",
      "source": [
        "# removing outliers\n",
        "def remove_outliers(data,exclude_column):\n",
        "  for col in data.columns:\n",
        "    if col==exclude_column:\n",
        "      continue\n",
        "    Q1=data[col].quantile(0.25)\n",
        "    Q3=data[col].quantile(0.75)\n",
        "    IQR=Q3-Q1\n",
        "    lower_bound=Q1-1.5*IQR\n",
        "    upper_bound=Q3+1.5*IQR\n",
        "\n",
        "    data=data[(data[col]>=lower_bound)& (data[col]<=upper_bound)]\n",
        "  return data\n",
        "\n",
        "data_cleaned=remove_outliers(data,exclude_column='price')\n",
        "data_cleaned"
      ],
      "metadata": {
        "colab": {
          "base_uri": "https://localhost:8080/",
          "height": 443
        },
        "id": "MJqyBZrlDJKF",
        "outputId": "0954e189-fd47-4b6d-c60f-266b061384d6"
      },
      "execution_count": null,
      "outputs": [
        {
          "output_type": "execute_result",
          "data": {
            "text/plain": [
              "        admin1  market   latitude  longitude  category  commodity  unit  \\\n",
              "7600         2      57  26.183333  91.733333         1          9     1   \n",
              "7601         3     116  25.600000  85.116667         2         14     1   \n",
              "7602         3     116  25.600000  85.116667         2         15     1   \n",
              "7604         3     116  25.600000  85.116667         3         17     1   \n",
              "7605         3     116  25.600000  85.116667         1          9     1   \n",
              "...        ...     ...        ...        ...       ...        ...   ...   \n",
              "176790      23     111  26.938848  75.800056         4          3     1   \n",
              "176791      23     111  26.938848  75.800056         4          4     1   \n",
              "176792      23     111  26.938848  75.800056         4          5     1   \n",
              "176793      23     111  26.938848  75.800056         5         13     1   \n",
              "176794      23     111  26.938848  75.800056         5         20     1   \n",
              "\n",
              "        pricetype   price  Year  DayOfWeek  \n",
              "7600            0   50.00  2007          0  \n",
              "7601            0   12.00  2007          0  \n",
              "7602            0   11.00  2007          0  \n",
              "7604            0   20.00  2007          0  \n",
              "7605            0   55.00  2007          0  \n",
              "...           ...     ...   ...        ...  \n",
              "176790          0   94.30  2024          3  \n",
              "176791          0  112.71  2024          3  \n",
              "176792          0  118.43  2024          3  \n",
              "176793          0   30.51  2024          3  \n",
              "176794          0   34.15  2024          3  \n",
              "\n",
              "[158496 rows x 11 columns]"
            ],
            "text/html": [
              "\n",
              "  <div id=\"df-4f2f681a-c048-40d3-b071-78685155cee0\" class=\"colab-df-container\">\n",
              "    <div>\n",
              "<style scoped>\n",
              "    .dataframe tbody tr th:only-of-type {\n",
              "        vertical-align: middle;\n",
              "    }\n",
              "\n",
              "    .dataframe tbody tr th {\n",
              "        vertical-align: top;\n",
              "    }\n",
              "\n",
              "    .dataframe thead th {\n",
              "        text-align: right;\n",
              "    }\n",
              "</style>\n",
              "<table border=\"1\" class=\"dataframe\">\n",
              "  <thead>\n",
              "    <tr style=\"text-align: right;\">\n",
              "      <th></th>\n",
              "      <th>admin1</th>\n",
              "      <th>market</th>\n",
              "      <th>latitude</th>\n",
              "      <th>longitude</th>\n",
              "      <th>category</th>\n",
              "      <th>commodity</th>\n",
              "      <th>unit</th>\n",
              "      <th>pricetype</th>\n",
              "      <th>price</th>\n",
              "      <th>Year</th>\n",
              "      <th>DayOfWeek</th>\n",
              "    </tr>\n",
              "  </thead>\n",
              "  <tbody>\n",
              "    <tr>\n",
              "      <th>7600</th>\n",
              "      <td>2</td>\n",
              "      <td>57</td>\n",
              "      <td>26.183333</td>\n",
              "      <td>91.733333</td>\n",
              "      <td>1</td>\n",
              "      <td>9</td>\n",
              "      <td>1</td>\n",
              "      <td>0</td>\n",
              "      <td>50.00</td>\n",
              "      <td>2007</td>\n",
              "      <td>0</td>\n",
              "    </tr>\n",
              "    <tr>\n",
              "      <th>7601</th>\n",
              "      <td>3</td>\n",
              "      <td>116</td>\n",
              "      <td>25.600000</td>\n",
              "      <td>85.116667</td>\n",
              "      <td>2</td>\n",
              "      <td>14</td>\n",
              "      <td>1</td>\n",
              "      <td>0</td>\n",
              "      <td>12.00</td>\n",
              "      <td>2007</td>\n",
              "      <td>0</td>\n",
              "    </tr>\n",
              "    <tr>\n",
              "      <th>7602</th>\n",
              "      <td>3</td>\n",
              "      <td>116</td>\n",
              "      <td>25.600000</td>\n",
              "      <td>85.116667</td>\n",
              "      <td>2</td>\n",
              "      <td>15</td>\n",
              "      <td>1</td>\n",
              "      <td>0</td>\n",
              "      <td>11.00</td>\n",
              "      <td>2007</td>\n",
              "      <td>0</td>\n",
              "    </tr>\n",
              "    <tr>\n",
              "      <th>7604</th>\n",
              "      <td>3</td>\n",
              "      <td>116</td>\n",
              "      <td>25.600000</td>\n",
              "      <td>85.116667</td>\n",
              "      <td>3</td>\n",
              "      <td>17</td>\n",
              "      <td>1</td>\n",
              "      <td>0</td>\n",
              "      <td>20.00</td>\n",
              "      <td>2007</td>\n",
              "      <td>0</td>\n",
              "    </tr>\n",
              "    <tr>\n",
              "      <th>7605</th>\n",
              "      <td>3</td>\n",
              "      <td>116</td>\n",
              "      <td>25.600000</td>\n",
              "      <td>85.116667</td>\n",
              "      <td>1</td>\n",
              "      <td>9</td>\n",
              "      <td>1</td>\n",
              "      <td>0</td>\n",
              "      <td>55.00</td>\n",
              "      <td>2007</td>\n",
              "      <td>0</td>\n",
              "    </tr>\n",
              "    <tr>\n",
              "      <th>...</th>\n",
              "      <td>...</td>\n",
              "      <td>...</td>\n",
              "      <td>...</td>\n",
              "      <td>...</td>\n",
              "      <td>...</td>\n",
              "      <td>...</td>\n",
              "      <td>...</td>\n",
              "      <td>...</td>\n",
              "      <td>...</td>\n",
              "      <td>...</td>\n",
              "      <td>...</td>\n",
              "    </tr>\n",
              "    <tr>\n",
              "      <th>176790</th>\n",
              "      <td>23</td>\n",
              "      <td>111</td>\n",
              "      <td>26.938848</td>\n",
              "      <td>75.800056</td>\n",
              "      <td>4</td>\n",
              "      <td>3</td>\n",
              "      <td>1</td>\n",
              "      <td>0</td>\n",
              "      <td>94.30</td>\n",
              "      <td>2024</td>\n",
              "      <td>3</td>\n",
              "    </tr>\n",
              "    <tr>\n",
              "      <th>176791</th>\n",
              "      <td>23</td>\n",
              "      <td>111</td>\n",
              "      <td>26.938848</td>\n",
              "      <td>75.800056</td>\n",
              "      <td>4</td>\n",
              "      <td>4</td>\n",
              "      <td>1</td>\n",
              "      <td>0</td>\n",
              "      <td>112.71</td>\n",
              "      <td>2024</td>\n",
              "      <td>3</td>\n",
              "    </tr>\n",
              "    <tr>\n",
              "      <th>176792</th>\n",
              "      <td>23</td>\n",
              "      <td>111</td>\n",
              "      <td>26.938848</td>\n",
              "      <td>75.800056</td>\n",
              "      <td>4</td>\n",
              "      <td>5</td>\n",
              "      <td>1</td>\n",
              "      <td>0</td>\n",
              "      <td>118.43</td>\n",
              "      <td>2024</td>\n",
              "      <td>3</td>\n",
              "    </tr>\n",
              "    <tr>\n",
              "      <th>176793</th>\n",
              "      <td>23</td>\n",
              "      <td>111</td>\n",
              "      <td>26.938848</td>\n",
              "      <td>75.800056</td>\n",
              "      <td>5</td>\n",
              "      <td>13</td>\n",
              "      <td>1</td>\n",
              "      <td>0</td>\n",
              "      <td>30.51</td>\n",
              "      <td>2024</td>\n",
              "      <td>3</td>\n",
              "    </tr>\n",
              "    <tr>\n",
              "      <th>176794</th>\n",
              "      <td>23</td>\n",
              "      <td>111</td>\n",
              "      <td>26.938848</td>\n",
              "      <td>75.800056</td>\n",
              "      <td>5</td>\n",
              "      <td>20</td>\n",
              "      <td>1</td>\n",
              "      <td>0</td>\n",
              "      <td>34.15</td>\n",
              "      <td>2024</td>\n",
              "      <td>3</td>\n",
              "    </tr>\n",
              "  </tbody>\n",
              "</table>\n",
              "<p>158496 rows × 11 columns</p>\n",
              "</div>\n",
              "    <div class=\"colab-df-buttons\">\n",
              "\n",
              "  <div class=\"colab-df-container\">\n",
              "    <button class=\"colab-df-convert\" onclick=\"convertToInteractive('df-4f2f681a-c048-40d3-b071-78685155cee0')\"\n",
              "            title=\"Convert this dataframe to an interactive table.\"\n",
              "            style=\"display:none;\">\n",
              "\n",
              "  <svg xmlns=\"http://www.w3.org/2000/svg\" height=\"24px\" viewBox=\"0 -960 960 960\">\n",
              "    <path d=\"M120-120v-720h720v720H120Zm60-500h600v-160H180v160Zm220 220h160v-160H400v160Zm0 220h160v-160H400v160ZM180-400h160v-160H180v160Zm440 0h160v-160H620v160ZM180-180h160v-160H180v160Zm440 0h160v-160H620v160Z\"/>\n",
              "  </svg>\n",
              "    </button>\n",
              "\n",
              "  <style>\n",
              "    .colab-df-container {\n",
              "      display:flex;\n",
              "      gap: 12px;\n",
              "    }\n",
              "\n",
              "    .colab-df-convert {\n",
              "      background-color: #E8F0FE;\n",
              "      border: none;\n",
              "      border-radius: 50%;\n",
              "      cursor: pointer;\n",
              "      display: none;\n",
              "      fill: #1967D2;\n",
              "      height: 32px;\n",
              "      padding: 0 0 0 0;\n",
              "      width: 32px;\n",
              "    }\n",
              "\n",
              "    .colab-df-convert:hover {\n",
              "      background-color: #E2EBFA;\n",
              "      box-shadow: 0px 1px 2px rgba(60, 64, 67, 0.3), 0px 1px 3px 1px rgba(60, 64, 67, 0.15);\n",
              "      fill: #174EA6;\n",
              "    }\n",
              "\n",
              "    .colab-df-buttons div {\n",
              "      margin-bottom: 4px;\n",
              "    }\n",
              "\n",
              "    [theme=dark] .colab-df-convert {\n",
              "      background-color: #3B4455;\n",
              "      fill: #D2E3FC;\n",
              "    }\n",
              "\n",
              "    [theme=dark] .colab-df-convert:hover {\n",
              "      background-color: #434B5C;\n",
              "      box-shadow: 0px 1px 3px 1px rgba(0, 0, 0, 0.15);\n",
              "      filter: drop-shadow(0px 1px 2px rgba(0, 0, 0, 0.3));\n",
              "      fill: #FFFFFF;\n",
              "    }\n",
              "  </style>\n",
              "\n",
              "    <script>\n",
              "      const buttonEl =\n",
              "        document.querySelector('#df-4f2f681a-c048-40d3-b071-78685155cee0 button.colab-df-convert');\n",
              "      buttonEl.style.display =\n",
              "        google.colab.kernel.accessAllowed ? 'block' : 'none';\n",
              "\n",
              "      async function convertToInteractive(key) {\n",
              "        const element = document.querySelector('#df-4f2f681a-c048-40d3-b071-78685155cee0');\n",
              "        const dataTable =\n",
              "          await google.colab.kernel.invokeFunction('convertToInteractive',\n",
              "                                                    [key], {});\n",
              "        if (!dataTable) return;\n",
              "\n",
              "        const docLinkHtml = 'Like what you see? Visit the ' +\n",
              "          '<a target=\"_blank\" href=https://colab.research.google.com/notebooks/data_table.ipynb>data table notebook</a>'\n",
              "          + ' to learn more about interactive tables.';\n",
              "        element.innerHTML = '';\n",
              "        dataTable['output_type'] = 'display_data';\n",
              "        await google.colab.output.renderOutput(dataTable, element);\n",
              "        const docLink = document.createElement('div');\n",
              "        docLink.innerHTML = docLinkHtml;\n",
              "        element.appendChild(docLink);\n",
              "      }\n",
              "    </script>\n",
              "  </div>\n",
              "\n",
              "\n",
              "    <div id=\"df-f470e6f4-5869-45aa-96ca-95647cab0c80\">\n",
              "      <button class=\"colab-df-quickchart\" onclick=\"quickchart('df-f470e6f4-5869-45aa-96ca-95647cab0c80')\"\n",
              "                title=\"Suggest charts\"\n",
              "                style=\"display:none;\">\n",
              "\n",
              "<svg xmlns=\"http://www.w3.org/2000/svg\" height=\"24px\"viewBox=\"0 0 24 24\"\n",
              "     width=\"24px\">\n",
              "    <g>\n",
              "        <path d=\"M19 3H5c-1.1 0-2 .9-2 2v14c0 1.1.9 2 2 2h14c1.1 0 2-.9 2-2V5c0-1.1-.9-2-2-2zM9 17H7v-7h2v7zm4 0h-2V7h2v10zm4 0h-2v-4h2v4z\"/>\n",
              "    </g>\n",
              "</svg>\n",
              "      </button>\n",
              "\n",
              "<style>\n",
              "  .colab-df-quickchart {\n",
              "      --bg-color: #E8F0FE;\n",
              "      --fill-color: #1967D2;\n",
              "      --hover-bg-color: #E2EBFA;\n",
              "      --hover-fill-color: #174EA6;\n",
              "      --disabled-fill-color: #AAA;\n",
              "      --disabled-bg-color: #DDD;\n",
              "  }\n",
              "\n",
              "  [theme=dark] .colab-df-quickchart {\n",
              "      --bg-color: #3B4455;\n",
              "      --fill-color: #D2E3FC;\n",
              "      --hover-bg-color: #434B5C;\n",
              "      --hover-fill-color: #FFFFFF;\n",
              "      --disabled-bg-color: #3B4455;\n",
              "      --disabled-fill-color: #666;\n",
              "  }\n",
              "\n",
              "  .colab-df-quickchart {\n",
              "    background-color: var(--bg-color);\n",
              "    border: none;\n",
              "    border-radius: 50%;\n",
              "    cursor: pointer;\n",
              "    display: none;\n",
              "    fill: var(--fill-color);\n",
              "    height: 32px;\n",
              "    padding: 0;\n",
              "    width: 32px;\n",
              "  }\n",
              "\n",
              "  .colab-df-quickchart:hover {\n",
              "    background-color: var(--hover-bg-color);\n",
              "    box-shadow: 0 1px 2px rgba(60, 64, 67, 0.3), 0 1px 3px 1px rgba(60, 64, 67, 0.15);\n",
              "    fill: var(--button-hover-fill-color);\n",
              "  }\n",
              "\n",
              "  .colab-df-quickchart-complete:disabled,\n",
              "  .colab-df-quickchart-complete:disabled:hover {\n",
              "    background-color: var(--disabled-bg-color);\n",
              "    fill: var(--disabled-fill-color);\n",
              "    box-shadow: none;\n",
              "  }\n",
              "\n",
              "  .colab-df-spinner {\n",
              "    border: 2px solid var(--fill-color);\n",
              "    border-color: transparent;\n",
              "    border-bottom-color: var(--fill-color);\n",
              "    animation:\n",
              "      spin 1s steps(1) infinite;\n",
              "  }\n",
              "\n",
              "  @keyframes spin {\n",
              "    0% {\n",
              "      border-color: transparent;\n",
              "      border-bottom-color: var(--fill-color);\n",
              "      border-left-color: var(--fill-color);\n",
              "    }\n",
              "    20% {\n",
              "      border-color: transparent;\n",
              "      border-left-color: var(--fill-color);\n",
              "      border-top-color: var(--fill-color);\n",
              "    }\n",
              "    30% {\n",
              "      border-color: transparent;\n",
              "      border-left-color: var(--fill-color);\n",
              "      border-top-color: var(--fill-color);\n",
              "      border-right-color: var(--fill-color);\n",
              "    }\n",
              "    40% {\n",
              "      border-color: transparent;\n",
              "      border-right-color: var(--fill-color);\n",
              "      border-top-color: var(--fill-color);\n",
              "    }\n",
              "    60% {\n",
              "      border-color: transparent;\n",
              "      border-right-color: var(--fill-color);\n",
              "    }\n",
              "    80% {\n",
              "      border-color: transparent;\n",
              "      border-right-color: var(--fill-color);\n",
              "      border-bottom-color: var(--fill-color);\n",
              "    }\n",
              "    90% {\n",
              "      border-color: transparent;\n",
              "      border-bottom-color: var(--fill-color);\n",
              "    }\n",
              "  }\n",
              "</style>\n",
              "\n",
              "      <script>\n",
              "        async function quickchart(key) {\n",
              "          const quickchartButtonEl =\n",
              "            document.querySelector('#' + key + ' button');\n",
              "          quickchartButtonEl.disabled = true;  // To prevent multiple clicks.\n",
              "          quickchartButtonEl.classList.add('colab-df-spinner');\n",
              "          try {\n",
              "            const charts = await google.colab.kernel.invokeFunction(\n",
              "                'suggestCharts', [key], {});\n",
              "          } catch (error) {\n",
              "            console.error('Error during call to suggestCharts:', error);\n",
              "          }\n",
              "          quickchartButtonEl.classList.remove('colab-df-spinner');\n",
              "          quickchartButtonEl.classList.add('colab-df-quickchart-complete');\n",
              "        }\n",
              "        (() => {\n",
              "          let quickchartButtonEl =\n",
              "            document.querySelector('#df-f470e6f4-5869-45aa-96ca-95647cab0c80 button');\n",
              "          quickchartButtonEl.style.display =\n",
              "            google.colab.kernel.accessAllowed ? 'block' : 'none';\n",
              "        })();\n",
              "      </script>\n",
              "    </div>\n",
              "\n",
              "  <div id=\"id_822fbead-4406-4989-b88f-d45db5f33280\">\n",
              "    <style>\n",
              "      .colab-df-generate {\n",
              "        background-color: #E8F0FE;\n",
              "        border: none;\n",
              "        border-radius: 50%;\n",
              "        cursor: pointer;\n",
              "        display: none;\n",
              "        fill: #1967D2;\n",
              "        height: 32px;\n",
              "        padding: 0 0 0 0;\n",
              "        width: 32px;\n",
              "      }\n",
              "\n",
              "      .colab-df-generate:hover {\n",
              "        background-color: #E2EBFA;\n",
              "        box-shadow: 0px 1px 2px rgba(60, 64, 67, 0.3), 0px 1px 3px 1px rgba(60, 64, 67, 0.15);\n",
              "        fill: #174EA6;\n",
              "      }\n",
              "\n",
              "      [theme=dark] .colab-df-generate {\n",
              "        background-color: #3B4455;\n",
              "        fill: #D2E3FC;\n",
              "      }\n",
              "\n",
              "      [theme=dark] .colab-df-generate:hover {\n",
              "        background-color: #434B5C;\n",
              "        box-shadow: 0px 1px 3px 1px rgba(0, 0, 0, 0.15);\n",
              "        filter: drop-shadow(0px 1px 2px rgba(0, 0, 0, 0.3));\n",
              "        fill: #FFFFFF;\n",
              "      }\n",
              "    </style>\n",
              "    <button class=\"colab-df-generate\" onclick=\"generateWithVariable('data_cleaned')\"\n",
              "            title=\"Generate code using this dataframe.\"\n",
              "            style=\"display:none;\">\n",
              "\n",
              "  <svg xmlns=\"http://www.w3.org/2000/svg\" height=\"24px\"viewBox=\"0 0 24 24\"\n",
              "       width=\"24px\">\n",
              "    <path d=\"M7,19H8.4L18.45,9,17,7.55,7,17.6ZM5,21V16.75L18.45,3.32a2,2,0,0,1,2.83,0l1.4,1.43a1.91,1.91,0,0,1,.58,1.4,1.91,1.91,0,0,1-.58,1.4L9.25,21ZM18.45,9,17,7.55Zm-12,3A5.31,5.31,0,0,0,4.9,8.1,5.31,5.31,0,0,0,1,6.5,5.31,5.31,0,0,0,4.9,4.9,5.31,5.31,0,0,0,6.5,1,5.31,5.31,0,0,0,8.1,4.9,5.31,5.31,0,0,0,12,6.5,5.46,5.46,0,0,0,6.5,12Z\"/>\n",
              "  </svg>\n",
              "    </button>\n",
              "    <script>\n",
              "      (() => {\n",
              "      const buttonEl =\n",
              "        document.querySelector('#id_822fbead-4406-4989-b88f-d45db5f33280 button.colab-df-generate');\n",
              "      buttonEl.style.display =\n",
              "        google.colab.kernel.accessAllowed ? 'block' : 'none';\n",
              "\n",
              "      buttonEl.onclick = () => {\n",
              "        google.colab.notebook.generateWithVariable('data_cleaned');\n",
              "      }\n",
              "      })();\n",
              "    </script>\n",
              "  </div>\n",
              "\n",
              "    </div>\n",
              "  </div>\n"
            ],
            "application/vnd.google.colaboratory.intrinsic+json": {
              "type": "dataframe",
              "variable_name": "data_cleaned"
            }
          },
          "metadata": {},
          "execution_count": 93
        }
      ]
    },
    {
      "cell_type": "code",
      "source": [
        "df=data_cleaned"
      ],
      "metadata": {
        "id": "IluLvcqLEeU6"
      },
      "execution_count": null,
      "outputs": []
    },
    {
      "cell_type": "code",
      "source": [
        "# calculating corelation after removing outliers\n",
        "\n",
        "price_cor=data.corr()['price'].drop('price')\n",
        "\n",
        "sns.heatmap(price_cor.to_frame(),annot=True,fmt='.2f',cmap='coolwarm')\n",
        "plt.title('corelation btwin price and other features')\n",
        "plt.show()"
      ],
      "metadata": {
        "colab": {
          "base_uri": "https://localhost:8080/",
          "height": 452
        },
        "id": "SdcX8eiZEghk",
        "outputId": "7f1185ea-d5fa-4750-adb5-942bca0832f2"
      },
      "execution_count": null,
      "outputs": [
        {
          "output_type": "display_data",
          "data": {
            "text/plain": [
              "<Figure size 640x480 with 2 Axes>"
            ],
            "image/png": "[encoded data removed]"
          },
          "metadata": {}
        }
      ]
    },
    {
      "cell_type": "code",
      "source": [
        "df2=df\n",
        "dfa=df"
      ],
      "metadata": {
        "id": "bYMnWGONFCOE"
      },
      "execution_count": null,
      "outputs": []
    },
    {
      "cell_type": "code",
      "source": [
        "from sklearn.model_selection import train_test_split\n",
        "X = df[['market', 'admin1', 'latitude',\"longitude\",\"category\",\"commodity\",\"unit\",\"pricetype\",\"Year\",\"DayOfWeek\"]]  # Features\n",
        "y = df['price']  # Target variable\n",
        "X_train, X_test, y_train, y_test = train_test_split(X, y, test_size=0.25, random_state=42) # You can adjust the test_size and random_state\n",
        "\n",
        "\n",
        "\n",
        "from sklearn.linear_model import LinearRegression\n",
        "model = LinearRegression() #creating a variable of LinearRegression()\n",
        "model.fit(X_train, y_train)\n",
        "\n",
        "y_pred = model.predict(X_test)\n",
        "\n",
        "\n",
        "from sklearn.metrics import mean_squared_error, r2_score\n",
        "mse = mean_squared_error(y_test, y_pred)\n",
        "rmse = np.sqrt(mse)\n",
        "r2 = r2_score(y_test, y_pred)\n",
        "print(f\"MSE: {mse}, RMSE: {rmse}, R-squared: {r2}\")"
      ],
      "metadata": {
        "colab": {
          "base_uri": "https://localhost:8080/"
        },
        "id": "cp2Weokxtnhy",
        "outputId": "017c26bc-8952-4020-80c8-7a902e0ff0b3"
      },
      "execution_count": null,
      "outputs": [
        {
          "output_type": "stream",
          "name": "stdout",
          "text": [
            "MSE: 2944.9056237832383, RMSE: 54.266984657185795, R-squared: 0.24768852777584494\n"
          ]
        }
      ]
    },
    {
      "cell_type": "markdown",
      "source": [
        "### Dimensionality reduction"
      ],
      "metadata": {
        "id": "QgMm3AWFzL5q"
      }
    },
    {
      "cell_type": "code",
      "source": [
        "from sklearn.preprocessing import StandardScaler\n",
        "\n",
        "features=['market','admin1','latitude','longitude','category','commodity','unit','pricetype','Year','DayOfWeek']\n",
        "scaler=StandardScaler().fit_transform(df[features])\n",
        "\n",
        "# PCA\n",
        "from sklearn.decomposition import PCA\n",
        "pca=PCA(n_components=2)\n",
        "pca_result=pca.fit_transform(scaler)\n",
        "\n",
        "# add pca\n",
        "df['pca1']=pca_result[:,0]\n",
        "df['pca2']=pca_result[:,1]"
      ],
      "metadata": {
        "id": "jlWhrsZtvNCE"
      },
      "execution_count": null,
      "outputs": []
    },
    {
      "cell_type": "code",
      "source": [
        "from sklearn.model_selection import train_test_split\n",
        "X = df[[\"pca1\",\"pca2\"]]  # Features\n",
        "y = df['price']  # Target variable\n",
        "X_train, X_test, y_train, y_test = train_test_split(X, y, test_size=0.25, random_state=42) # You can adjust the test_size and random_state\n",
        "\n",
        "\n",
        "\n",
        "from sklearn.linear_model import LinearRegression\n",
        "model = LinearRegression()\n",
        "model.fit(X_train, y_train)\n",
        "\n",
        "y_pred = model.predict(X_test)\n",
        "\n",
        "\n",
        "from sklearn.metrics import mean_squared_error, r2_score\n",
        "mse = mean_squared_error(y_test, y_pred)\n",
        "rmse = np.sqrt(mse)\n",
        "r2 = r2_score(y_test, y_pred)\n",
        "print(f\"MSE: {mse}, RMSE: {rmse}, R-squared: {r2}\")"
      ],
      "metadata": {
        "colab": {
          "base_uri": "https://localhost:8080/"
        },
        "id": "Uujqap7l0PxI",
        "outputId": "932b87e6-ffd6-4fd9-a70e-42d708967f55"
      },
      "execution_count": null,
      "outputs": [
        {
          "output_type": "stream",
          "name": "stdout",
          "text": [
            "MSE: 3572.97719672879, RMSE: 59.77438579131358, R-squared: 0.08724010936514082\n"
          ]
        }
      ]
    },
    {
      "cell_type": "code",
      "source": [
        "# after pca the mse have increased"
      ],
      "metadata": {
        "colab": {
          "base_uri": "https://localhost:8080/",
          "height": 106
        },
        "id": "lU07vKef1J-K",
        "outputId": "a99f41ec-470e-4bc9-8bc2-96ca58d8e244"
      },
      "execution_count": null,
      "outputs": [
        {
          "output_type": "error",
          "ename": "SyntaxError",
          "evalue": "invalid syntax (<ipython-input-102-39638814add8>, line 1)",
          "traceback": [
            "\u001b[0;36m  File \u001b[0;32m\"<ipython-input-102-39638814add8>\"\u001b[0;36m, line \u001b[0;32m1\u001b[0m\n\u001b[0;31m    after pca the mse have increased\u001b[0m\n\u001b[0m          ^\u001b[0m\n\u001b[0;31mSyntaxError\u001b[0m\u001b[0;31m:\u001b[0m invalid syntax\n"
          ]
        }
      ]
    },
    {
      "cell_type": "code",
      "source": [
        "from sklearn.preprocessing import MinMaxScaler\n",
        "features=['market','admin1','latitude','longitude','category','commodity','unit','pricetype','Year','DayOfWeek']\n",
        "scaler=MinMaxScaler()\n",
        "\n",
        "scaled_data=scaler.fit_transform(df[features])\n",
        "\n",
        "scaled_df=pd.DataFrame(scaled_data,columns=features,index=df.index)\n",
        "scaled_df['price']=df['price']\n",
        "df=scaled_df\n",
        "df"
      ],
      "metadata": {
        "id": "oq2102b_1NHt"
      },
      "execution_count": null,
      "outputs": []
    }
  ]
}